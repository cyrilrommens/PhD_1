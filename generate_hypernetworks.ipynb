{
 "cells": [
  {
   "cell_type": "code",
   "execution_count": 152,
   "metadata": {},
   "outputs": [],
   "source": [
    "# Import libraries\n",
    "import matplotlib.pyplot as plt\n",
    "import numpy as np\n",
    "import pandas as pd\n",
    "import infotopo\n",
    "import networkx as nx\n",
    "import matplotlib.patches as patches\n",
    "from sklearn.utils import Bunch\n",
    "from itertools import combinations"
   ]
  },
  {
   "cell_type": "markdown",
   "metadata": {},
   "source": [
    "Generate artificial networks with a preset redundancy and synergy. "
   ]
  },
  {
   "cell_type": "code",
   "execution_count": 135,
   "metadata": {},
   "outputs": [],
   "source": [
    "def generate_empty_simplicial_complex(num_nodes):\n",
    "    \"\"\"\n",
    "    Generate a simplicial complex for a given number of nodes and weights zero.\n",
    "    \n",
    "    Parameters:\n",
    "        num_nodes (int): The number of nodes.\n",
    "        \n",
    "    Returns:\n",
    "        dict: A dictionary where keys are simplices (tuples) and values are zero.\n",
    "    \"\"\"\n",
    "    if num_nodes <= 0:\n",
    "        return {}\n",
    "\n",
    "    # Initialize the dictionary to store simplices and their values\n",
    "    simplicial_complex = {}\n",
    "    nodes = range(1, num_nodes + 1)\n",
    "    \n",
    "    # Generate simplices and assign random values\n",
    "    for r in range(1, num_nodes + 1):\n",
    "        for simplex in combinations(nodes, r):\n",
    "            simplicial_complex[simplex] = 0\n",
    "    \n",
    "    return simplicial_complex"
   ]
  },
  {
   "cell_type": "code",
   "execution_count": 146,
   "metadata": {},
   "outputs": [],
   "source": [
    "def distribute_value(R_sum, S_sum, nb_of_variables):\n",
    "    \"\"\"\n",
    "    Distribute a given value `R_sum` randomly into a list of length `nb_of_variables` \n",
    "    such that the sum of the list equals `R_sum`. Do the same for S_sum\n",
    "    \n",
    "    Parameters:\n",
    "        R_sum (float): The sum of the positive MI values, representing redundant dependence.\n",
    "        S_sum (float): The sum of the negative MI values, representing synergistic dependence.\n",
    "        nb_of_variables (int): The amount of variables, i.e. nodes, of the system.\n",
    "        \n",
    "    Returns:\n",
    "        list of float: A list of MI values, where sum(postive values)=R_sum and sum(negative values)=S_sum.\n",
    "    \"\"\"\n",
    "    if nb_of_variables <= 0:\n",
    "        return []\n",
    "\n",
    "    nb_of_variables_R = random.randint(1, nb_of_variables - 1)\n",
    "    nb_of_variables_S = nb_of_variables - nb_of_variables_R\n",
    "\n",
    "    # Generate MI values for redundancy\n",
    "    points_R = sorted([0] + [random.uniform(0, R_sum) for _ in range(nb_of_variables_R - 1)] + [R_sum])\n",
    "    distributed_values_R = [points_R[i + 1] - points_R[i] for i in range(nb_of_variables_R)]\n",
    "\n",
    "    # Generate MI values for synergy\n",
    "    points_S = sorted([0] + [random.uniform(0, S_sum) for _ in range(nb_of_variables_S - 1)] + [S_sum])\n",
    "    distributed_values_S = [-(points_S[i + 1] - points_S[i]) for i in range(nb_of_variables_S)]\n",
    "\n",
    "    # Combine both lists\n",
    "    distributed_values = distributed_values_R + distributed_values_S\n",
    "\n",
    "    # Shuffle the combined list\n",
    "    random.shuffle(distributed_values)\n",
    "\n",
    "    return distributed_values\n",
    "\n",
    "def assign_MI_values(simplicial_complex, R_sum, S_sum):\n",
    "    \"\"\"\n",
    "    Assigns MI values to the components of the complex.\n",
    "    For n=1: assign random MI values between 2 and 3\n",
    "    For n=2: assign random MI values between 0 and 3\n",
    "    For n>2: assign MI values from the resulting list of func \"distribute_value\"\n",
    "    \n",
    "    Parameters:\n",
    "        R_sum (float): The sum of the positive MI values, representing redundant dependence.\n",
    "        S_sum (float): The sum of the negative MI values, representing synergistic dependence.\n",
    "        simplicial_complex (dict): Dictionary of the empty simplicial complex\n",
    "        \n",
    "    Returns:\n",
    "        Simplicial complex (dict): resulting complex with assigned MI values\n",
    "    \"\"\"\n",
    "    # Count the number of keys with length > 2\n",
    "    count = sum(1 for key in simplicial_complex if len(key) > 2)\n",
    "\n",
    "    # Get the distributed values for keys with length > 2\n",
    "    distributed_values = distribute_value(R_sum, S_sum, count)\n",
    "\n",
    "    # Iterator for distributing values to keys with length > 2\n",
    "    distributed_values_iter = iter(distributed_values)\n",
    "\n",
    "    # Iterate over the dictionary and assign values based on key length\n",
    "    for key in simplicial_complex:\n",
    "        key_length = len(key)\n",
    "        \n",
    "        if key_length == 1:\n",
    "            # Assign random values between 2 and 3 for keylength 1\n",
    "            simplicial_complex[key] = random.uniform(2, 3)\n",
    "        elif key_length == 2:\n",
    "            # Assign random values between 0 and 3 for keylength 2\n",
    "            simplicial_complex[key] = random.uniform(0, 3)\n",
    "        elif key_length > 2:\n",
    "            # Assign randomly distributed redundancy and synergy values for keylength > 2\n",
    "            simplicial_complex[key] = next(distributed_values_iter)\n",
    "    \n",
    "    return simplicial_complex"
   ]
  },
  {
   "cell_type": "code",
   "execution_count": 168,
   "metadata": {},
   "outputs": [],
   "source": [
    "R_sum = 19\n",
    "S_sum = 1\n",
    "nb_of_variables = 10\n",
    "\n",
    "empty_simplicial_complex = generate_empty_simplicial_complex(nb_of_variables)\n",
    "Ninfomut_artificial = assign_MI_values(empty_simplicial_complex, R_sum, S_sum)"
   ]
  },
  {
   "cell_type": "code",
   "execution_count": 169,
   "metadata": {},
   "outputs": [
    {
     "data": {
      "text/plain": [
       "-4.120796384575847"
      ]
     },
     "execution_count": 169,
     "metadata": {},
     "output_type": "execute_result"
    }
   ],
   "source": [
    "compute_tse_complexity(Ninfomut_artificial)"
   ]
  },
  {
   "cell_type": "code",
   "execution_count": 191,
   "metadata": {},
   "outputs": [],
   "source": [
    "TSE_R = []\n",
    "TSE_S = []\n",
    "TSE_0 = []\n",
    "\n",
    "for i in range(10000):\n",
    "    R_sum = 50\n",
    "    S_sum = 0\n",
    "    nb_of_variables = 10\n",
    "\n",
    "    empty_simplicial_complex = generate_empty_simplicial_complex(nb_of_variables)\n",
    "    Ninfomut_artificial = assign_MI_values(empty_simplicial_complex, R_sum, S_sum)\n",
    "    TSE_R.append(compute_tse_complexity(Ninfomut_artificial))\n",
    "\n",
    "    R_sum = 0\n",
    "    S_sum = 50\n",
    "    nb_of_variables = 10\n",
    "\n",
    "    empty_simplicial_complex = generate_empty_simplicial_complex(nb_of_variables)\n",
    "    Ninfomut_artificial = assign_MI_values(empty_simplicial_complex, R_sum, S_sum)\n",
    "    TSE_S.append(compute_tse_complexity(Ninfomut_artificial))\n",
    "\n",
    "    R_sum = 5\n",
    "    S_sum = 5\n",
    "    nb_of_variables = 10\n",
    "\n",
    "    empty_simplicial_complex = generate_empty_simplicial_complex(nb_of_variables)\n",
    "    Ninfomut_artificial = assign_MI_values(empty_simplicial_complex, R_sum, S_sum)\n",
    "    TSE_0.append(compute_tse_complexity(Ninfomut_artificial))"
   ]
  },
  {
   "cell_type": "code",
   "execution_count": 192,
   "metadata": {},
   "outputs": [
    {
     "data": {
      "image/png": "[encoded data removed]",
      "text/plain": [
       "<Figure size 640x480 with 1 Axes>"
      ]
     },
     "metadata": {},
     "output_type": "display_data"
    }
   ],
   "source": [
    "import matplotlib.pyplot as plt\n",
    "\n",
    "# Sample data for three lists\n",
    "list1 = TSE_R\n",
    "list2 = TSE_S\n",
    "list3 = TSE_0\n",
    "\n",
    "# Plot histograms for the three lists\n",
    "plt.hist(list1, bins=100, color='blue', alpha=0.7, label='List 1', density=True)\n",
    "plt.hist(list2, bins=100, color='green', alpha=0.7, label='List 2', density=True)\n",
    "plt.hist(list3, bins=100, color='red', alpha=0.7, label='List 3', density=True)\n",
    "plt.xlim(-6, -2)\n",
    "\n",
    "# Add title and labels\n",
    "plt.title('Histograms of Three Lists')\n",
    "plt.xlabel('Value')\n",
    "plt.ylabel('Frequency')\n",
    "\n",
    "# Add legend to distinguish the lists\n",
    "plt.legend()\n",
    "\n",
    "# Show the plot\n",
    "plt.show()\n"
   ]
  },
  {
   "cell_type": "code",
   "execution_count": 184,
   "metadata": {},
   "outputs": [
    {
     "data": {
      "image/png": "[encoded data removed]",
      "text/plain": [
       "<Figure size 1500x500 with 3 Axes>"
      ]
     },
     "metadata": {},
     "output_type": "display_data"
    }
   ],
   "source": [
    "import matplotlib.pyplot as plt\n",
    "\n",
    "# Sample data for three lists\n",
    "list1 = TSE_R\n",
    "list2 = TSE_S\n",
    "list3 = TSE_0\n",
    "\n",
    "# Create a figure with 1 row and 3 columns\n",
    "fig, axs = plt.subplots(1, 3, figsize=(15, 5))\n",
    "\n",
    "# Plot histogram for the first list\n",
    "axs[0].hist(list1, bins=100, color='blue', alpha=0.7)\n",
    "axs[0].set_title('Histogram 1')\n",
    "\n",
    "# Plot histogram for the second list\n",
    "axs[1].hist(list2, bins=100, color='green', alpha=0.7)\n",
    "axs[1].set_title('Histogram 2')\n",
    "\n",
    "# Plot histogram for the third list\n",
    "axs[2].hist(list3, bins=100, color='red', alpha=0.7)\n",
    "axs[2].set_title('Histogram 3')\n",
    "\n",
    "# Adjust layout to prevent overlap\n",
    "plt.tight_layout()\n",
    "\n",
    "# Show the plots\n",
    "plt.show()"
   ]
  },
  {
   "cell_type": "code",
   "execution_count": 153,
   "metadata": {},
   "outputs": [],
   "source": [
    "def compute_subset_tc_expectation(TC_dict, gamma):\n",
    "    \"\"\"\n",
    "    Computes the expected total correlation for subsets of size gamma.\n",
    "    \n",
    "    Parameters:\n",
    "        TC_dict (dict): Dictionary where keys are tuples (subsets) and values are total correlations.\n",
    "        gamma (int): Size of the subset.\n",
    "    \n",
    "    Returns:\n",
    "        float: Expected total correlation for subsets of size gamma.\n",
    "    \"\"\"\n",
    "    subsets = [subset for subset in TC_dict if len(subset) == gamma]\n",
    "    subset_tcs = [TC_dict[subset] for subset in subsets]\n",
    "    return np.mean(subset_tcs) if subset_tcs else 0  # Return 0 if no subsets of size gamma exist\n",
    "\n",
    "def compute_tse_complexity(TC_dict):\n",
    "    \"\"\"\n",
    "    Computes the TSE complexity given a dictionary of total correlations.\n",
    "    \n",
    "    Parameters:\n",
    "        TC_dict (dict): Dictionary of total correlations where keys are tuples (subsets).\n",
    "        \n",
    "    Returns:\n",
    "        float: The TSE complexity.\n",
    "    \"\"\"\n",
    "    N = max(len(subset) for subset in TC_dict)  # Maximum size of the subsets (full set)\n",
    "    TSE = 0\n",
    "    \n",
    "    for gamma in range(1, N):\n",
    "        TC_full = (gamma / N) * TC_dict[tuple(range(1, N + 1))]  # Full set correlation scaled by gamma/N\n",
    "        E_TC_gamma = compute_subset_tc_expectation(TC_dict, gamma)\n",
    "        TSE += TC_full - E_TC_gamma\n",
    "    \n",
    "    return TSE"
   ]
  }
 ],
 "metadata": {
  "kernelspec": {
   "display_name": "base",
   "language": "python",
   "name": "python3"
  },
  "language_info": {
   "codemirror_mode": {
    "name": "ipython",
    "version": 3
   },
   "file_extension": ".py",
   "mimetype": "text/x-python",
   "name": "python",
   "nbconvert_exporter": "python",
   "pygments_lexer": "ipython3",
   "version": "3.12.4"
  }
 },
 "nbformat": 4,
 "nbformat_minor": 2
}
