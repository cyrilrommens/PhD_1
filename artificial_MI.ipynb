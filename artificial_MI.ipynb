{
 "cells": [
  {
   "cell_type": "code",
   "execution_count": 26,
   "metadata": {},
   "outputs": [
    {
     "data": {
      "text/plain": [
       "(1.000007581115343, 0.9828249867374883)"
      ]
     },
     "execution_count": 26,
     "metadata": {},
     "output_type": "execute_result"
    }
   ],
   "source": [
    "from scipy.optimize import minimize\n",
    "import numpy as np\n",
    "import pandas as pd\n",
    "from sklearn.metrics import mutual_info_score\n",
    "\n",
    "def generate_variables_for_mi(target_mi, n_samples=1000):\n",
    "    \"\"\"Generates two lists of variables (X, Y) with approximately the given mutual information.\"\"\"\n",
    "    \n",
    "    # Generate base variable X\n",
    "    X = np.random.randn(n_samples)\n",
    "    \n",
    "    # Define a function that adjusts noise to achieve target MI\n",
    "    def mi_objective(noise_std):\n",
    "        \"\"\"Objective function to minimize the difference between actual and target MI.\"\"\"\n",
    "        Y = 3 * X + np.random.normal(scale=noise_std, size=n_samples)  # Add controlled noise\n",
    "        X_discrete = pd.qcut(X, q=10, labels=False, duplicates=\"drop\")\n",
    "        Y_discrete = pd.qcut(Y, q=10, labels=False, duplicates=\"drop\")\n",
    "        mi = mutual_info_score(X_discrete, Y_discrete)\n",
    "        return abs(mi - target_mi)  # We want MI close to target\n",
    "    \n",
    "    # Find optimal noise level to match target MI\n",
    "    result = minimize(mi_objective, x0=1.0, bounds=[(0.01, 10.0)])\n",
    "    optimal_noise = result.x[0]\n",
    "\n",
    "    # Generate final dataset with optimized noise\n",
    "    Y_final = 3 * X + np.random.normal(scale=optimal_noise, size=n_samples)\n",
    "\n",
    "    return X, Y_final, optimal_noise\n",
    "\n",
    "# Example: Generate two lists with MI ≈ 1.5\n",
    "target_mi = 4\n",
    "X_generated, Y_generated, final_noise = generate_variables_for_mi(target_mi)\n",
    "\n",
    "# Compute achieved MI for verification\n",
    "X_discrete_final = pd.qcut(X_generated, q=10, labels=False, duplicates=\"drop\")\n",
    "Y_discrete_final = pd.qcut(Y_generated, q=10, labels=False, duplicates=\"drop\")\n",
    "achieved_mi = mutual_info_score(X_discrete_final, Y_discrete_final)\n",
    "\n",
    "final_noise, achieved_mi"
   ]
  }
 ],
 "metadata": {
  "kernelspec": {
   "display_name": "base",
   "language": "python",
   "name": "python3"
  },
  "language_info": {
   "codemirror_mode": {
    "name": "ipython",
    "version": 3
   },
   "file_extension": ".py",
   "mimetype": "text/x-python",
   "name": "python",
   "nbconvert_exporter": "python",
   "pygments_lexer": "ipython3",
   "version": "3.12.4"
  }
 },
 "nbformat": 4,
 "nbformat_minor": 2
}
