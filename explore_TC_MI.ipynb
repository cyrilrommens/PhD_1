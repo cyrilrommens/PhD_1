{
 "cells": [
  {
   "cell_type": "markdown",
   "metadata": {},
   "source": [
    "Use the code below, to identify where in the synergy/redundancy map the TSE complexity should be plotted, i.e.:\n",
    "For a given list of TC and MI coordinates, this code outputs a transformed list of S and R coordinates."
   ]
  },
  {
   "cell_type": "code",
   "execution_count": 13,
   "metadata": {},
   "outputs": [],
   "source": [
    "import matplotlib.pyplot as plt"
   ]
  },
  {
   "cell_type": "code",
   "execution_count": 18,
   "metadata": {},
   "outputs": [],
   "source": [
    "def transform_coordinates(coordinates):\n",
    "    transformed = []\n",
    "    for tc, mi in coordinates:\n",
    "        s = (tc - mi) / 2\n",
    "        r = (tc + mi) / 2\n",
    "        transformed.append((s, r))\n",
    "    return transformed\n",
    "\n",
    "def normalize_coordinates(coords):\n",
    "    xs, ys = zip(*coords)  # Unzip into separate x and y lists\n",
    "    min_x, max_x = min(xs), max(xs)\n",
    "    min_y, max_y = min(ys), max(ys)\n",
    "    \n",
    "    normalized = [((x - min_x) / (max_x - min_x), (y - min_y) / (max_y - min_y)) for x, y in coords]\n",
    "    return normalized\n",
    "\n",
    "def plot_coordinates(coords):\n",
    "    xs, ys = zip(*coords)  # Separate the x and y values\n",
    "    \n",
    "    plt.scatter(xs, ys, color='blue', marker='o')\n",
    "    for i, (x, y) in enumerate(coords, start=1):\n",
    "        plt.text(x, y, f'x{i}', fontsize=9, ha='right', va='bottom')\n",
    "    \n",
    "    plt.title('Relative synergy/redundancy distribution')\n",
    "    plt.xlabel('Relative Synergy')\n",
    "    plt.ylabel('Relative Redundancy')\n",
    "    plt.grid(True)\n",
    "    plt.show()"
   ]
  },
  {
   "cell_type": "code",
   "execution_count": 28,
   "metadata": {},
   "outputs": [
    {
     "name": "stdout",
     "output_type": "stream",
     "text": [
      "List of coordinates (Relative Synergy,  Relative Redundancy): \n",
      " [(-3.5, 4.5), (3.5, -1.5), (0.5, 2.5), (2.5, 0.5), (1.5, 6.5), (4.5, 3.5)]\n",
      "List of normalized coordinates (Relative Synergy,  Relative Redundancy): \n",
      " [(0.0, 0.75), (0.875, 0.0), (0.5, 0.5), (0.75, 0.25), (0.625, 1.0), (1.0, 0.625)]\n"
     ]
    },
    {
     "data": {
      "image/png": "[encoded data removed]",
      "text/plain": [
       "<Figure size 640x480 with 1 Axes>"
      ]
     },
     "metadata": {},
     "output_type": "display_data"
    }
   ],
   "source": [
    "# Example usage\n",
    "TC_MI_coordinates = [(1, 8), (2, -5), (3, 2), (3, -2), (8, 5), (8, -1)]\n",
    "S_R_coordinates = transform_coordinates(TC_MI_coordinates)\n",
    "print(f'List of coordinates (Relative Synergy,  Relative Redundancy): \\n {S_R_coordinates}')\n",
    "\n",
    "normalized_S_R_coordinates = normalize_coordinates(S_R_coordinates)\n",
    "print(f'List of normalized coordinates (Relative Synergy,  Relative Redundancy): \\n {normalized_S_R_coordinates}')\n",
    "\n",
    "plot_coordinates(normalized_S_R_coordinates)"
   ]
  },
  {
   "cell_type": "code",
   "execution_count": 1,
   "metadata": {},
   "outputs": [
    {
     "name": "stdout",
     "output_type": "stream",
     "text": [
      "List of coordinates (Relative Synergy,  Relative Redundancy): \n",
      " [(1, 8), (2, -5), (3, 2), (3, -2), (8, 5), (8, -1)]\n",
      "List of normalized coordinates (Relative Synergy,  Relative Redundancy): \n",
      " [(0.0, 1.0), (0.14285714285714285, 0.0), (0.2857142857142857, 0.5384615384615384), (0.2857142857142857, 0.23076923076923078), (1.0, 0.7692307692307693), (1.0, 0.3076923076923077)]\n"
     ]
    }
   ],
   "source": [
    "import matplotlib.pyplot as plt\n",
    "\n",
    "def normalize_coordinates(coords):\n",
    "    xs, ys = zip(*coords)  # Unzip into separate x and y lists\n",
    "    min_x, max_x = min(xs), max(xs)\n",
    "    min_y, max_y = min(ys), max(ys)\n",
    "    \n",
    "    normalized = [((x - min_x) / (max_x - min_x), (y - min_y) / (max_y - min_y)) for x, y in coords]\n",
    "    return normalized\n",
    "\n",
    "# Example usage\n",
    "S_R_coordinates = [(1, 8), (2, -5), (3, 2), (3, -2), (8, 5), (8, -1)]\n",
    "print(f'List of coordinates (Relative Synergy,  Relative Redundancy): \\n {S_R_coordinates}')\n",
    "\n",
    "normalized_S_R_coordinates = normalize_coordinates(S_R_coordinates)\n",
    "print(f'List of normalized coordinates (Relative Synergy,  Relative Redundancy): \\n {normalized_S_R_coordinates}')"
   ]
  },
  {
   "cell_type": "code",
   "execution_count": 3,
   "metadata": {},
   "outputs": [
    {
     "name": "stdout",
     "output_type": "stream",
     "text": [
      "Original DataFrame:\n",
      "   x  y\n",
      "0  1  8\n",
      "1  2 -5\n",
      "2  3  2\n",
      "3  3 -2\n",
      "4  8  5\n",
      "5  8 -1\n",
      "\n",
      "Normalized DataFrame:\n",
      "          x         y\n",
      "0  0.000000  1.000000\n",
      "1  0.142857  0.000000\n",
      "2  0.285714  0.538462\n",
      "3  0.285714  0.230769\n",
      "4  1.000000  0.769231\n",
      "5  1.000000  0.307692\n"
     ]
    },
    {
     "name": "stderr",
     "output_type": "stream",
     "text": [
      "C:\\Users\\cyril\\AppData\\Local\\Temp\\ipykernel_6332\\1233472987.py:6: FutureWarning: Setting an item of incompatible dtype is deprecated and will raise in a future error of pandas. Value '0    0.000000\n",
      "1    0.142857\n",
      "2    0.285714\n",
      "3    0.285714\n",
      "4    1.000000\n",
      "5    1.000000\n",
      "Name: x, dtype: float64' has dtype incompatible with int64, please explicitly cast to a compatible dtype first.\n",
      "  df.iloc[:, 0] = (df.iloc[:, 0] - min_x) / (max_x - min_x) if max_x != min_x else 0\n",
      "C:\\Users\\cyril\\AppData\\Local\\Temp\\ipykernel_6332\\1233472987.py:10: FutureWarning: Setting an item of incompatible dtype is deprecated and will raise in a future error of pandas. Value '0    1.000000\n",
      "1    0.000000\n",
      "2    0.538462\n",
      "3    0.230769\n",
      "4    0.769231\n",
      "5    0.307692\n",
      "Name: y, dtype: float64' has dtype incompatible with int64, please explicitly cast to a compatible dtype first.\n",
      "  df.iloc[:, 1] = (df.iloc[:, 1] - min_y) / (max_y - min_y) if max_y != min_y else 0\n"
     ]
    }
   ],
   "source": [
    "import pandas as pd\n",
    "\n",
    "def normalize_columns(df):\n",
    "    # Normalize first column (index 0)\n",
    "    min_x, max_x = df.iloc[:, 0].min(), df.iloc[:, 0].max()\n",
    "    df.iloc[:, 0] = (df.iloc[:, 0] - min_x) / (max_x - min_x) if max_x != min_x else 0\n",
    "    \n",
    "    # Normalize second column (index 1)\n",
    "    min_y, max_y = df.iloc[:, 1].min(), df.iloc[:, 1].max()\n",
    "    df.iloc[:, 1] = (df.iloc[:, 1] - min_y) / (max_y - min_y) if max_y != min_y else 0\n",
    "    \n",
    "    return df\n",
    "\n",
    "# Example usage\n",
    "data = pd.DataFrame({\n",
    "    'x': [1, 2, 3, 3, 8, 8],\n",
    "    'y': [8, -5, 2, -2, 5, -1]\n",
    "})\n",
    "\n",
    "print(\"Original DataFrame:\")\n",
    "print(data)\n",
    "\n",
    "# Normalize the first two columns\n",
    "normalized_data = normalize_columns(data)\n",
    "\n",
    "print(\"\\nNormalized DataFrame:\")\n",
    "print(normalized_data)"
   ]
  }
 ],
 "metadata": {
  "kernelspec": {
   "display_name": "base",
   "language": "python",
   "name": "python3"
  },
  "language_info": {
   "codemirror_mode": {
    "name": "ipython",
    "version": 3
   },
   "file_extension": ".py",
   "mimetype": "text/x-python",
   "name": "python",
   "nbconvert_exporter": "python",
   "pygments_lexer": "ipython3",
   "version": "3.12.4"
  }
 },
 "nbformat": 4,
 "nbformat_minor": 2
}
