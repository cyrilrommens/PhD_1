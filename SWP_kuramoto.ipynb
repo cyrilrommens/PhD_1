{
 "cells": [
  {
   "cell_type": "markdown",
   "metadata": {},
   "source": [
    "# Small World Propensity exploration for time evolving Kuramoto model\n",
    "\n",
    "Content:\n",
    "- First implement known SWP for pairwise case\n",
    "- Explore high order extension of the SWP, from high order clustering and pathlength\n",
    "- Compare for xgi_kuramoto model, starting with 0 HOI and increasing high order interactions"
   ]
  },
  {
   "cell_type": "code",
   "execution_count": 1,
   "metadata": {},
   "outputs": [],
   "source": [
    "import infotopo_no_prints\n",
    "import os\n",
    "import xgi\n",
    "import glob\n",
    "import pandas as pd\n",
    "import numpy as np\n",
    "import matplotlib.pyplot as plt\n",
    "import matplotlib.colors as mcolors\n",
    "import matplotlib.animation as animation\n",
    "from sklearn.utils import Bunch\n",
    "from scipy.integrate import solve_ivp\n",
    "from mpl_toolkits.mplot3d import Axes3D"
   ]
  },
  {
   "cell_type": "code",
   "execution_count": 2,
   "metadata": {},
   "outputs": [],
   "source": [
    "# Normalize the first two columns individually for a given dataframe (range 0-1)\n",
    "def normalize_columns(df):\n",
    "    # Normalize first column (index 0)\n",
    "    min_x, max_x = df.iloc[:, 0].min(), df.iloc[:, 0].max()\n",
    "    df.iloc[:, 0] = (df.iloc[:, 0] - min_x) / (max_x - min_x) if max_x != min_x else 0\n",
    "    \n",
    "    # Normalize second column (index 1)\n",
    "    min_y, max_y = df.iloc[:, 1].min(), df.iloc[:, 1].max()\n",
    "    df.iloc[:, 1] = (df.iloc[:, 1] - min_y) / (max_y - min_y) if max_y != min_y else 0\n",
    "    \n",
    "    return df\n",
    "\n",
    "# Optimized function to compute TSE complexity\n",
    "def compute_tse_complexity(TC_dict):\n",
    "    \"\"\"\n",
    "    Computes the TSE complexity given a dictionary of total correlations.\n",
    "    \n",
    "    Parameters:\n",
    "        TC_dict (dict): Dictionary of total correlations where keys are tuples (subsets).\n",
    "        \n",
    "    Returns:\n",
    "        float: The TSE complexity.\n",
    "    \"\"\"\n",
    "    N = max(len(subset) for subset in TC_dict)  # Maximum subset size\n",
    "    TSE = 0\n",
    "    for gamma in range(1, N):\n",
    "        TC_full = (gamma / N) * TC_dict[tuple(range(1, N + 1))]\n",
    "        E_TC_gamma = np.mean([TC_dict[subset] for subset in TC_dict if len(subset) == gamma])\n",
    "        TSE += TC_full - E_TC_gamma\n",
    "    return TSE\n",
    "\n",
    "# Convert pandas dataframe to bunch object\n",
    "def dataframe_to_bunch(dataframe, target=None, feature_names=None, target_names=None, descr=\"Custom dataset\"):\n",
    "    if feature_names is None:\n",
    "        feature_names = dataframe.columns.tolist()\n",
    "    \n",
    "    return Bunch(\n",
    "        data=dataframe.to_numpy(),\n",
    "        target=target if target is not None else np.zeros(dataframe.shape[0]),\n",
    "        feature_names=feature_names,\n",
    "        target_names=target_names if target_names is not None else [\"target\"],\n",
    "        DESCR=descr\n",
    "    )\n",
    "\n",
    "# Obtain topological information metrics using infotopo\n",
    "def obtain_infotopo_metrics(dataset, dimension_max=0, dimension_tot=0):\n",
    "\n",
    "    if dimension_max == 0:\n",
    "        dimension_max = 3 #dataset.shape[1]\n",
    "    if dimension_tot == 0:\n",
    "        dimension_tot = 9 #dataset.shape[1]\n",
    "    \n",
    "    sample_size = dataset.shape[0]\n",
    "    nb_of_values = 16\n",
    "    forward_computation_mode = True\n",
    "    work_on_transpose = False\n",
    "    supervised_mode = False\n",
    "    sampling_mode = 1\n",
    "    deformed_probability_mode = False\n",
    "\n",
    "    information_topo = infotopo_no_prints.infotopo(dimension_max = dimension_max,\n",
    "                                dimension_tot = dimension_tot,\n",
    "                                sample_size = sample_size,\n",
    "                                work_on_transpose = work_on_transpose,\n",
    "                                nb_of_values = nb_of_values,\n",
    "                                sampling_mode = sampling_mode,\n",
    "                                deformed_probability_mode = deformed_probability_mode,\n",
    "                                supervised_mode = supervised_mode,\n",
    "                                forward_computation_mode = forward_computation_mode)\n",
    "    \n",
    "    Nentropie = information_topo.simplicial_entropies_decomposition(dataset)\n",
    "    Ninfomut = information_topo.simplicial_infomut_decomposition(Nentropie)\n",
    "    Nfree_energy = information_topo.total_correlation_simplicial_lanscape(Nentropie)\n",
    "    \n",
    "    return  Nentropie, Ninfomut, Nfree_energy\n",
    "\n",
    "# Function to compute metrics for a time window sliding over a given timeseries\n",
    "def interactions_values_relative(df_input, window_size=0, window_step=0, dimension_max=0, dimension_tot=0):\n",
    "    # Initialize an empty DataFrame\n",
    "    columns = ['R_sum', 'S_sum', 'TSE_value', 'R_std', 'S_std']\n",
    "    df_output = pd.DataFrame(columns=columns)\n",
    "\n",
    "    # Set initial window conditions\n",
    "    if window_size == 0:\n",
    "        window_size = len(df_input)-1\n",
    "    if window_step == 0:\n",
    "        window_step = 1\n",
    "    window_start = 0\n",
    "    window_end = window_start + window_size\n",
    "\n",
    "    while window_end < len(df_input):\n",
    "        bunch_data = dataframe_to_bunch(df_input.iloc[window_start:window_end])\n",
    "        Nentropie, Ninfomut, Nfree_energy = obtain_infotopo_metrics(bunch_data.data, dimension_max, dimension_tot)\n",
    "\n",
    "        S_values = [(TC - MI) / 2 for TC, MI in zip(Nfree_energy.values(), Ninfomut.values())]\n",
    "        R_values = [(TC + MI) / 2 for TC, MI in zip(Nfree_energy.values(), Ninfomut.values())]\n",
    "        S_std = np.std(S_values, ddof=1)\n",
    "        R_std = np.std(R_values, ddof=1)\n",
    "        S_sum = sum(S_values)\n",
    "        R_sum = sum(R_values)\n",
    "        TSE_value = compute_tse_complexity(Nfree_energy)\n",
    "\n",
    "        # Add the new values to the dataframe\n",
    "        new_row = pd.DataFrame({'R_sum': [R_sum], 'S_sum': [S_sum], 'TSE_value': [TSE_value], 'R_std': [R_std], 'S_std':[S_std]})\n",
    "        df_output = pd.concat([df_output, new_row], ignore_index=True)\n",
    "        \n",
    "        window_start += window_step\n",
    "        window_end += window_step\n",
    "\n",
    "    # Normalize all the values so that the S and R values are all positive and the maximum R and S are 1 and minimum 0.\n",
    "    min_R = df_output.iloc[:, 0].min()\n",
    "    df_output.iloc[:, 0] += abs(min_R)\n",
    "\n",
    "    df_output['S_sum'] = (df_output['S_sum'] - df_output['S_sum'].min()) / (df_output['S_sum'].max() - df_output['S_sum'].min())\n",
    "    df_output['R_sum'] = (df_output['R_sum'] - df_output['R_sum'].min()) / (df_output['R_sum'].max() - df_output['R_sum'].min())\n",
    "\n",
    "    return df_output\n",
    "\n",
    "# Kuramoto model differential equation\n",
    "def kuramoto(t, theta, omega, K, N):\n",
    "    dtheta = np.zeros(N)\n",
    "    for i in range(N):\n",
    "        interaction = np.sum(np.sin(theta - theta[i]))\n",
    "        dtheta[i] = omega[i] + (K / N) * interaction\n",
    "    return dtheta\n",
    "\n",
    "# Simulate the Kuramoto model and save frequency time series\n",
    "def simulate_kuramoto(N=50, K=2.0, T=20, dt=0.01):\n",
    "    # Initialize random natural frequencies and initial phases\n",
    "    omega = np.random.normal(loc=0, scale=1, size=N)\n",
    "    initial_phases = np.random.uniform(0, 2 * np.pi, N)\n",
    "    \n",
    "    # Time vector\n",
    "    t_eval = np.arange(0, T, dt)\n",
    "    \n",
    "    # Solve the system\n",
    "    sol = solve_ivp(kuramoto, [0, T], initial_phases, args=(omega, K, N), t_eval=t_eval, method='RK45')\n",
    "    \n",
    "    # Compute instantaneous frequencies (time derivative of phases)\n",
    "    frequencies = np.gradient(sol.y, sol.t, axis=1)\n",
    "\n",
    "    # Convert to right data format\n",
    "    frequencies_df = pd.DataFrame(frequencies).transpose()\n",
    "    \n",
    "    return frequencies_df\n",
    "\n",
    "# Simulate Kuramoto model for high order interactions with XGI\n",
    "def simulate_kuramoto_xgi(H, K2, K3, T=20, dt=0.01):\n",
    "    timesteps=int(T/dt)\n",
    "    H_int = xgi.convert_labels_to_integers(H, \"label\")\n",
    "    links = H_int.edges.filterby(\"size\", 2).members()\n",
    "    triangles = H_int.edges.filterby(\"size\", 3).members()\n",
    "    n = H_int.num_nodes\n",
    "\n",
    "    theta_time = np.zeros((timesteps, n))\n",
    "    times = np.arange(timesteps) * dt\n",
    "\n",
    "    omega = np.random.normal(0, 1, n)\n",
    "    theta = np.random.random(n) * 2 * np.pi\n",
    "\n",
    "    for t in range(timesteps):\n",
    "        theta_time[t] = theta\n",
    "        r1 = np.zeros(n, dtype=complex)\n",
    "        r2 = np.zeros(n, dtype=complex)\n",
    "\n",
    "        for i, j in links:\n",
    "            r1[i] += np.exp(1j * theta[j])\n",
    "            r1[j] += np.exp(1j * theta[i])\n",
    "\n",
    "        for i, j, k in triangles:\n",
    "            r2[i] += np.exp(2j * theta[j] - 1j * theta[k]) + np.exp(2j * theta[k] - 1j * theta[j])\n",
    "            r2[j] += np.exp(2j * theta[i] - 1j * theta[k]) + np.exp(2j * theta[k] - 1j * theta[i])\n",
    "            r2[k] += np.exp(2j * theta[i] - 1j * theta[j]) + np.exp(2j * theta[j] - 1j * theta[i])\n",
    "\n",
    "        d_theta = omega + K2 * np.multiply(r1, np.exp(-1j * theta)).imag + K3 * np.multiply(r2, np.exp(-1j * theta)).imag\n",
    "        theta_new = theta + d_theta * dt\n",
    "        theta = theta_new\n",
    "\n",
    "    frequencies_df = pd.DataFrame(theta_time, index=times)\n",
    "\n",
    "    return frequencies_df"
   ]
  },
  {
   "cell_type": "code",
   "execution_count": 3,
   "metadata": {},
   "outputs": [],
   "source": [
    "# Function to compute metrics for a time window sliding over a given timeseries\n",
    "def interactions_values_relative(df_input, window_size=0, window_step=0, dimension_max=0, dimension_tot=0):\n",
    "    # Initialize an empty DataFrame\n",
    "    columns = ['R_sum', 'S_sum', 'TSE_value', 'R_std', 'S_std', 'TC_lists']\n",
    "    df_output = pd.DataFrame(columns=columns)\n",
    "\n",
    "    # Set initial window conditions\n",
    "    if window_size == 0:\n",
    "        window_size = len(df_input)-1\n",
    "    if window_step == 0:\n",
    "        window_step = 1\n",
    "    window_start = 0\n",
    "    window_end = window_start + window_size\n",
    "\n",
    "    while window_end < len(df_input):\n",
    "        bunch_data = dataframe_to_bunch(df_input.iloc[window_start:window_end])\n",
    "        Nentropie, Ninfomut, Nfree_energy = obtain_infotopo_metrics(bunch_data.data, dimension_max, dimension_tot)\n",
    "\n",
    "        S_values = [(TC - MI) / 2 for TC, MI in zip(Nfree_energy.values(), Ninfomut.values())]\n",
    "        R_values = [(TC + MI) / 2 for TC, MI in zip(Nfree_energy.values(), Ninfomut.values())]\n",
    "        S_std = np.std(S_values, ddof=1)\n",
    "        R_std = np.std(R_values, ddof=1)\n",
    "        S_sum = sum(S_values)\n",
    "        R_sum = sum(R_values)\n",
    "        TSE_value = compute_tse_complexity(Nfree_energy)\n",
    "\n",
    "        # Add the new values to the dataframe\n",
    "        new_row = pd.DataFrame({'R_sum': [R_sum], 'S_sum': [S_sum], 'TSE_value': [TSE_value], 'R_std': [R_std], 'S_std':[S_std], 'TC_lists':[Ninfomut]})\n",
    "        df_output = pd.concat([df_output, new_row], ignore_index=True)\n",
    "        \n",
    "        window_start += window_step\n",
    "        window_end += window_step\n",
    "\n",
    "    # Normalize all the values so that the S and R values are all positive and the maximum R and S are 1 and minimum 0.\n",
    "    min_R = df_output.iloc[:, 0].min()\n",
    "    df_output.iloc[:, 0] += abs(min_R)\n",
    "\n",
    "    df_output['S_sum'] = (df_output['S_sum'] - df_output['S_sum'].min()) / (df_output['S_sum'].max() - df_output['S_sum'].min())\n",
    "    df_output['R_sum'] = (df_output['R_sum'] - df_output['R_sum'].min()) / (df_output['R_sum'].max() - df_output['R_sum'].min())\n",
    "\n",
    "    return df_output"
   ]
  },
  {
   "cell_type": "code",
   "execution_count": 15,
   "metadata": {},
   "outputs": [],
   "source": [
    "# Parameters\n",
    "N = 8   # Number of oscillators\n",
    "K = 3.0  # Coupling strength\n",
    "T = 20   # Total time\n",
    "dt = 0.01  # Time step\n",
    "\n",
    "# Construct an all-to-all pairwise hypergraph (equivalent to a complete graph)\n",
    "H = xgi.Hypergraph()\n",
    "H.add_nodes_from(range(N))  # Add nodes\n",
    "for i in range(N):\n",
    "    for j in range(i + 1, N):\n",
    "        H.add_edge([i, j])  # Add all possible pairwise links\n",
    "\n",
    "# Set k2 = K / N for consistency with the standard Kuramoto model\n",
    "K2 = K / N\n",
    "K3 = 0  # Higher-order interactions\n",
    "\n",
    "# Run the simulation\n",
    "frequencies_df = simulate_kuramoto_xgi(H, K2, K3, T, dt)\n",
    "# frequencies_df = simulate_kuramoto(N, K, T, dt)"
   ]
  },
  {
   "cell_type": "code",
   "execution_count": 16,
   "metadata": {},
   "outputs": [
    {
     "name": "stderr",
     "output_type": "stream",
     "text": [
      "C:\\Users\\cyril\\AppData\\Local\\Temp\\ipykernel_9556\\914995518.py:29: FutureWarning: The behavior of DataFrame concatenation with empty or all-NA entries is deprecated. In a future version, this will no longer exclude empty or all-NA columns when determining the result dtypes. To retain the old behavior, exclude the relevant entries before the concat operation.\n",
      "  df_output = pd.concat([df_output, new_row], ignore_index=True)\n"
     ]
    }
   ],
   "source": [
    "# Obtain information metrics\n",
    "window_size = 1000\n",
    "window_step = 10\n",
    "dimension_max = 8\n",
    "dimension_tot = 8\n",
    "\n",
    "df_oscillators = interactions_values_relative(frequencies_df, window_size, window_step, dimension_max, dimension_tot)"
   ]
  },
  {
   "cell_type": "code",
   "execution_count": 17,
   "metadata": {},
   "outputs": [
    {
     "data": {
      "image/png": "[encoded data removed]",
      "text/plain": [
       "<Figure size 1800x600 with 4 Axes>"
      ]
     },
     "metadata": {},
     "output_type": "display_data"
    }
   ],
   "source": [
    "# Create a figure with 1 row and 3 columns for subplots\n",
    "df = df_oscillators\n",
    "plt.figure(figsize=(18, 6))\n",
    "\n",
    "# First subplot for Synergy path\n",
    "plt.subplot(1, 3, 1)\n",
    "plt.scatter(df['S_sum'], df['TSE_value'], c=df['TSE_value'], cmap='viridis', s=50)\n",
    "# for i, (x, y) in enumerate(zip(df['S_sum'], df['TSE_value']), 1):\n",
    "#    plt.text(x, y, f'c{i}', fontsize=12, ha='right')\n",
    "plt.xlabel('S_sum')\n",
    "plt.ylabel('TSE complexity')\n",
    "\n",
    "# Second subplot for Redundancy path\n",
    "plt.subplot(1, 3, 2)\n",
    "plt.scatter(df['R_sum'], df['TSE_value'], c=df['TSE_value'], cmap='viridis', s=50)\n",
    "#for i, (x, y) in enumerate(zip(df['R_sum'], df['TSE_value']), 1):\n",
    "#    plt.text(x, y, f'c{i}', fontsize=12, ha='right')\n",
    "plt.xlabel('R_sum')\n",
    "plt.ylabel('TSE complexity')\n",
    "\n",
    "# Third subplot for Redundancy vs Synergy path\n",
    "plt.subplot(1, 3, 3)\n",
    "plt.scatter(df['R_sum'], df['S_sum'], c=df['TSE_value'], cmap='viridis', s=50)\n",
    "#for i, (x, y) in enumerate(zip(df['R_sum'], df['S_sum']), 1):\n",
    "#    plt.text(x, y, f'c{i}', fontsize=12, ha='right')\n",
    "plt.colorbar(label='TSE_value')\n",
    "plt.xlabel('R_sum')\n",
    "plt.ylabel('S_sum')\n",
    "\n",
    "# Adjust layout to avoid overlap and display the plot\n",
    "plt.suptitle(f'Kuramoto model with N:{N}, K:{K}, T:{T}, dt:{dt} and sliding settings of window size:{window_size}, stepsize:{window_step}')\n",
    "plt.tight_layout()\n",
    "plt.show()\n"
   ]
  },
  {
   "cell_type": "markdown",
   "metadata": {},
   "source": [
    "Use quad_clustering computation from (https://github.com/Gyeong-GyunHa/qch/blob/main/README.md) converted to python code from f90"
   ]
  },
  {
   "cell_type": "code",
   "execution_count": null,
   "metadata": {},
   "outputs": [
    {
     "name": "stdout",
     "output_type": "stream",
     "text": [
      "5 4\n",
      "[[ True  True False False]\n",
      " [ True False  True False]\n",
      " [ True  True  True False]\n",
      " [ True  True False  True]\n",
      " [False False  True  True]]\n",
      "[1.  0.5 0.5 0.5 0. ]\n"
     ]
    }
   ],
   "source": [
    "import numpy as np\n",
    "\n",
    "def load_inci_list(file_name):\n",
    "    \"\"\" Load incidence list from a file \"\"\"\n",
    "    inci_list = np.loadtxt(file_name, dtype=int)\n",
    "    return inci_list\n",
    "\n",
    "def inci_list2incmat(n1, n2, inci_list):\n",
    "    \"\"\" Convert incidence list to incidence matrix \"\"\"\n",
    "    inci_mat = np.zeros((n1, n2), dtype=bool)\n",
    "\n",
    "    for edge in range(1, n2 + 1):\n",
    "        nodes = inci_list[inci_list[:, 1] == edge, 0]\n",
    "        inci_mat[nodes - 1, edge - 1] = True\n",
    "\n",
    "    return inci_mat\n",
    "\n",
    "def quad_clustering(n1, n2, inci_mat):\n",
    "    \"\"\" Compute the quad clustering coefficient \"\"\"\n",
    "    clu_coeff = np.zeros(n1)\n",
    "\n",
    "    for i in range(n1):\n",
    "        numofedges = np.count_nonzero(inci_mat[i, :])\n",
    "        if numofedges < 2:\n",
    "            continue\n",
    "\n",
    "        edgelist1 = np.where(inci_mat[i, :])[0]\n",
    "\n",
    "        numerator = 0\n",
    "        denominator = 0\n",
    "\n",
    "        for a in range(len(edgelist1) - 1):\n",
    "            edge_a = edgelist1[a]\n",
    "            nodes_a = np.where(inci_mat[:, edge_a])[0]\n",
    "\n",
    "            if len(nodes_a) == 1:\n",
    "                continue\n",
    "\n",
    "            for b in range(a + 1, len(edgelist1)):\n",
    "                edge_b = edgelist1[b]\n",
    "                nodes_b = np.where(inci_mat[:, edge_b])[0]\n",
    "\n",
    "                if len(nodes_b) == 1:\n",
    "                    continue\n",
    "\n",
    "                denominator += min(len(nodes_a) - 1, len(nodes_b) - 1)\n",
    "\n",
    "                common_nodes = np.intersect1d(nodes_a, nodes_b)\n",
    "                numerator += len(common_nodes) - (i in common_nodes)\n",
    "\n",
    "        if denominator > 0:\n",
    "            clu_coeff[i] = numerator / denominator\n",
    "\n",
    "    return clu_coeff\n",
    "\n",
    "def main():\n",
    "    input_file = \"Data\\\\sample_hypergraph.txt\"\n",
    "    output_file = \"Data\\\\quadclustering_dist.txt\"\n",
    "\n",
    "    # Load incidence list\n",
    "    inci_list = load_inci_list(input_file)\n",
    "    n1 = np.max(inci_list[:, 0])\n",
    "    n2 = np.max(inci_list[:, 1])\n",
    "\n",
    "    # Convert to incidence matrix\n",
    "    inci_mat = inci_list2incmat(n1, n2, inci_list)\n",
    "\n",
    "    # Compute clustering coefficients\n",
    "    quad_clu_coeff = quad_clustering(n1, n2, inci_mat)\n",
    "    print(quad_clu_coeff)\n",
    "\n",
    "    # Save results\n",
    "    np.savetxt(output_file, quad_clu_coeff)\n",
    "\n",
    "if __name__ == \"__main__\":\n",
    "    main()\n"
   ]
  },
  {
   "cell_type": "markdown",
   "metadata": {},
   "source": [
    "Adjust the quad_clustering code to a weighted version, i.e. to apply on weighted hypergraphs."
   ]
  },
  {
   "cell_type": "code",
   "execution_count": 63,
   "metadata": {},
   "outputs": [
    {
     "name": "stdout",
     "output_type": "stream",
     "text": [
      "Clustering for low expectation 0.9575757575757574\n",
      "Clustering for mid expectation 1.2848484848484847\n",
      "Clustering for high expectation 2.1142857142857143\n"
     ]
    }
   ],
   "source": [
    "def load_inci_list(file_name):\n",
    "    \"\"\" Load weighted incidence list from a file (node, hyperedge, weight) \"\"\"\n",
    "    inci_list = np.loadtxt(file_name, dtype=int)\n",
    "    return inci_list\n",
    "\n",
    "def inci_list2incmat(n1, n2, inci_list):\n",
    "    \"\"\" Convert weighted incidence list to incidence matrix \"\"\"\n",
    "    inci_mat = np.zeros((n1, n2), dtype=float)\n",
    "\n",
    "    for node, edge, weight in inci_list:\n",
    "        inci_mat[node - 1, edge - 1] = weight  # Store weight in the matrix\n",
    "\n",
    "    return inci_mat\n",
    "\n",
    "def quad_clustering(n1, n2, inci_mat):\n",
    "    \"\"\" Compute the quad clustering coefficient for a weighted hypergraph \"\"\"\n",
    "    clu_coeff = np.zeros(n1)\n",
    "\n",
    "    for i in range(n1):\n",
    "        edge_weights = inci_mat[i, :]\n",
    "        numofedges = np.count_nonzero(edge_weights)\n",
    "\n",
    "        if numofedges < 2:\n",
    "            continue\n",
    "\n",
    "        edgelist1 = np.where(edge_weights > 0)[0]  # Get edges with nonzero weight\n",
    "\n",
    "        numerator = 0\n",
    "        denominator = 0\n",
    "\n",
    "        for a in range(len(edgelist1) - 1):\n",
    "            edge_a = edgelist1[a]\n",
    "            nodes_a = np.where(inci_mat[:, edge_a] > 0)[0]\n",
    "            weights_a = inci_mat[nodes_a, edge_a]\n",
    "\n",
    "            if len(nodes_a) == 1:\n",
    "                continue\n",
    "\n",
    "            for b in range(a + 1, len(edgelist1)):\n",
    "                edge_b = edgelist1[b]\n",
    "                nodes_b = np.where(inci_mat[:, edge_b] > 0)[0]\n",
    "                weights_b = inci_mat[nodes_b, edge_b]\n",
    "\n",
    "                if len(nodes_b) == 1:\n",
    "                    continue\n",
    "\n",
    "                # Use min(weight) instead of min(count) for weighted clustering\n",
    "                denominator += min(np.sum(weights_a) - 1, np.sum(weights_b) - 1)\n",
    "\n",
    "                common_nodes = np.intersect1d(nodes_a, nodes_b)\n",
    "                if len(common_nodes) > 1:\n",
    "                    numerator += np.sum(inci_mat[common_nodes, edge_a] * inci_mat[common_nodes, edge_b])\n",
    "\n",
    "        if denominator > 0:\n",
    "            clu_coeff[i] = numerator / denominator\n",
    "\n",
    "    return clu_coeff\n",
    "\n",
    "def main(input_file):\n",
    "\n",
    "    # Load weighted incidence list\n",
    "    inci_list = load_inci_list(input_file)\n",
    "    n1 = np.max(inci_list[:, 0])\n",
    "    n2 = np.max(inci_list[:, 1])\n",
    "\n",
    "    # Convert to weighted incidence matrix\n",
    "    inci_mat = inci_list2incmat(n1, n2, inci_list)\n",
    "\n",
    "    # Compute clustering coefficients\n",
    "    quad_clu_coeff = quad_clustering(n1, n2, inci_mat)\n",
    "\n",
    "    return np.mean(quad_clu_coeff)\n",
    "\n",
    "input_file = \"Data/sample_hypergraph_weighted_low.txt\"\n",
    "average_high_order_clustering_low = main(input_file)\n",
    "print('Clustering for low expectation', average_high_order_clustering_low)\n",
    "\n",
    "input_file = \"Data/sample_hypergraph_weighted_mid.txt\"\n",
    "average_high_order_clustering_mid = main(input_file)\n",
    "print('Clustering for mid expectation', average_high_order_clustering_mid)\n",
    "\n",
    "input_file = \"Data/sample_hypergraph_weighted_high.txt\"\n",
    "average_high_order_clustering_high = main(input_file)\n",
    "print('Clustering for high expectation', average_high_order_clustering_high)"
   ]
  },
  {
   "cell_type": "markdown",
   "metadata": {},
   "source": [
    "Extract necessities from the clustering calculation and adjust so that we can give the desired dictionary as input to represent the hypergraph."
   ]
  },
  {
   "cell_type": "code",
   "execution_count": 64,
   "metadata": {},
   "outputs": [],
   "source": [
    "def quad_clustering(hypergraph):\n",
    "    \"\"\" Compute the quad clustering coefficient for a weighted hypergraph \"\"\"\n",
    "    # Convert hypergraph to incidence matrix\n",
    "    # Extract unique vertices\n",
    "    vertices = sorted(set(v for edge in hypergraph.keys() for v in edge))\n",
    "\n",
    "    # Extract hyperedges\n",
    "    hyperedges = list(hypergraph.keys())\n",
    "\n",
    "    # Create an empty incidence matrix\n",
    "    inci_mat = np.zeros((len(vertices), len(hyperedges)))\n",
    "\n",
    "    # Fill in the matrix\n",
    "    for j, edge in enumerate(hyperedges):\n",
    "        weight = hypergraph[edge]\n",
    "        for v in edge:\n",
    "            i = vertices.index(v)  # Row index for the vertex\n",
    "            inci_mat[i, j] = weight\n",
    "\n",
    "    # Compute weighted quad clustering from incidence matrix\n",
    "    clu_coeff = np.zeros(n1)\n",
    "\n",
    "    for i in range(n1):\n",
    "        edge_weights = inci_mat[i, :]\n",
    "        numofedges = np.count_nonzero(edge_weights)\n",
    "\n",
    "        if numofedges < 2:\n",
    "            continue\n",
    "\n",
    "        edgelist1 = np.where(edge_weights > 0)[0]  # Get edges with nonzero weight\n",
    "\n",
    "        numerator = 0\n",
    "        denominator = 0\n",
    "\n",
    "        for a in range(len(edgelist1) - 1):\n",
    "            edge_a = edgelist1[a]\n",
    "            nodes_a = np.where(inci_mat[:, edge_a] > 0)[0]\n",
    "            weights_a = inci_mat[nodes_a, edge_a]\n",
    "\n",
    "            if len(nodes_a) == 1:\n",
    "                continue\n",
    "\n",
    "            for b in range(a + 1, len(edgelist1)):\n",
    "                edge_b = edgelist1[b]\n",
    "                nodes_b = np.where(inci_mat[:, edge_b] > 0)[0]\n",
    "                weights_b = inci_mat[nodes_b, edge_b]\n",
    "\n",
    "                if len(nodes_b) == 1:\n",
    "                    continue\n",
    "\n",
    "                # Use min(weight) instead of min(count) for weighted clustering\n",
    "                denominator += min(np.sum(weights_a) - 1, np.sum(weights_b) - 1)\n",
    "\n",
    "                common_nodes = np.intersect1d(nodes_a, nodes_b)\n",
    "                if len(common_nodes) > 1:\n",
    "                    numerator += np.sum(inci_mat[common_nodes, edge_a] * inci_mat[common_nodes, edge_b])\n",
    "\n",
    "        if denominator > 0:\n",
    "            clu_coeff[i] = numerator / denominator\n",
    "\n",
    "    return np.mean(clu_coeff)"
   ]
  },
  {
   "cell_type": "markdown",
   "metadata": {},
   "source": [
    "Test for an example hypergraph (for now sample_hypergraph_weighted_low). This shows that we obtain the same results as with the incidence matrix method."
   ]
  },
  {
   "cell_type": "code",
   "execution_count": 6,
   "metadata": {},
   "outputs": [
    {
     "name": "stdout",
     "output_type": "stream",
     "text": [
      "CPU times: total: 0 ns\n",
      "Wall time: 1.99 ms\n"
     ]
    },
    {
     "data": {
      "text/plain": [
       "0.9575757575757574"
      ]
     },
     "execution_count": 6,
     "metadata": {},
     "output_type": "execute_result"
    }
   ],
   "source": [
    "# Test\n",
    "hypergraph = {\n",
    "    (4, 5): 3,\n",
    "    (2, 3, 5): 2,\n",
    "    (1, 3, 4): 2,\n",
    "    (1, 2, 3, 4): 1,}\n",
    "\n",
    "%time average_high_order_clustering = quad_clustering(hypergraph)\n",
    "average_high_order_clustering"
   ]
  },
  {
   "cell_type": "markdown",
   "metadata": {},
   "source": [
    "Improved function?"
   ]
  },
  {
   "cell_type": "code",
   "execution_count": 7,
   "metadata": {},
   "outputs": [
    {
     "name": "stdout",
     "output_type": "stream",
     "text": [
      "CPU times: total: 0 ns\n",
      "Wall time: 0 ns\n",
      "0.9575757575757574\n"
     ]
    }
   ],
   "source": [
    "def quad_clustering(hypergraph):\n",
    "    \"\"\"Compute the quad clustering coefficient for a weighted hypergraph.\"\"\"\n",
    "    \n",
    "    # Extract unique vertices and assign indices\n",
    "    vertices = sorted(set(v for edge in hypergraph for v in edge))\n",
    "    vertex_index = {v: i for i, v in enumerate(vertices)}\n",
    "\n",
    "    # Extract hyperedges\n",
    "    hyperedges = list(hypergraph.keys())\n",
    "\n",
    "    # Create an incidence matrix\n",
    "    inci_mat = np.zeros((len(vertices), len(hyperedges)))\n",
    "\n",
    "    # Fill the incidence matrix\n",
    "    for j, edge in enumerate(hyperedges):\n",
    "        weight = hypergraph[edge]\n",
    "        for v in edge:\n",
    "            inci_mat[vertex_index[v], j] = weight\n",
    "\n",
    "    n_vertices = len(vertices)\n",
    "    clu_coeff = np.zeros(n_vertices)\n",
    "\n",
    "    # Compute weighted quad clustering coefficient\n",
    "    for i in range(n_vertices):\n",
    "        edge_weights = inci_mat[i, :]\n",
    "        edge_indices = np.nonzero(edge_weights)[0]  # Get indices of hyperedges containing vertex i\n",
    "\n",
    "        num_edges = len(edge_indices)\n",
    "        if num_edges < 2:\n",
    "            continue\n",
    "\n",
    "        numerator = 0\n",
    "        denominator = 0\n",
    "\n",
    "        for a in range(num_edges - 1):\n",
    "            edge_a = edge_indices[a]\n",
    "            nodes_a = np.where(inci_mat[:, edge_a] > 0)[0]\n",
    "            weights_a = inci_mat[nodes_a, edge_a]\n",
    "\n",
    "            if len(nodes_a) == 1:\n",
    "                continue\n",
    "\n",
    "            for b in range(a + 1, num_edges):\n",
    "                edge_b = edge_indices[b]\n",
    "                nodes_b = np.where(inci_mat[:, edge_b] > 0)[0]\n",
    "                weights_b = inci_mat[nodes_b, edge_b]\n",
    "\n",
    "                if len(nodes_b) == 1:\n",
    "                    continue\n",
    "\n",
    "                # Use min(weight sum - 1) for denominator calculation\n",
    "                denominator += min(np.sum(weights_a) - 1, np.sum(weights_b) - 1)\n",
    "\n",
    "                # Find common nodes\n",
    "                common_nodes = np.intersect1d(nodes_a, nodes_b, assume_unique=True)\n",
    "                if len(common_nodes) > 1:\n",
    "                    numerator += np.sum(inci_mat[common_nodes, edge_a] * inci_mat[common_nodes, edge_b])\n",
    "\n",
    "        if denominator > 0:\n",
    "            clu_coeff[i] = numerator / denominator\n",
    "\n",
    "    return np.mean(clu_coeff)\n",
    "\n",
    "# Test case\n",
    "hypergraph = {\n",
    "    (4, 5): 3,\n",
    "    (2, 3, 5): 2,\n",
    "    (1, 3, 4): 2,\n",
    "    (1, 2, 3, 4): 1,\n",
    "}\n",
    "\n",
    "%time average_high_order_clustering = quad_clustering(hypergraph)\n",
    "print(average_high_order_clustering)\n"
   ]
  },
  {
   "cell_type": "markdown",
   "metadata": {},
   "source": [
    "Generate random (non-uniform) hypergraphs using XGI"
   ]
  },
  {
   "cell_type": "code",
   "execution_count": 21,
   "metadata": {},
   "outputs": [],
   "source": [
    "# Import libraries\n",
    "import xgi\n",
    "import numpy as np\n",
    "import random"
   ]
  },
  {
   "cell_type": "code",
   "execution_count": 92,
   "metadata": {},
   "outputs": [],
   "source": [
    "# Define parameters\n",
    "n = 10  # Number of nodes\n",
    "m = 6   # Hypergraph size\n",
    "d = 3   # Number of edges\n",
    "k = 2   # Each edge connects k nodes\n",
    "l = 2   # Each node belongs to l edges\n",
    "p = 0.5 # Probability for Watts-Strogatz rewiring\n",
    "ps = [0.3, 0.5, 0.2]  # Probabilities for hyperedges of different orders\n",
    "order = 3  # Maximum order for hyperedges\n",
    "seed = 42  # Random seed for reproducibility\n",
    "\n",
    "# Degree sequences for Chung-Lu and DCSBM models\n",
    "k1 = {i : random.randint(1, 100) for i in range(n)} # Degree sequence for nodes\n",
    "k2 = {i : sorted(k1.values())[i] for i in range(n)} # Degree sequence for edges\n",
    "g1 = {i : random.choice([0, 1]) for i in range(n)} # Group labels for nodes\n",
    "g2 = {i : random.choice([0, 1]) for i in range(n)} # Group labels for edges\n",
    "omega = np.array([[n//2, 10], [10, n//2]]) # Connection probabilities"
   ]
  },
  {
   "cell_type": "code",
   "execution_count": 24,
   "metadata": {},
   "outputs": [],
   "source": [
    "# Fast Hypergraph\n",
    "H = xgi.fast_random_hypergraph(n, ps)"
   ]
  },
  {
   "cell_type": "code",
   "execution_count": 33,
   "metadata": {},
   "outputs": [],
   "source": [
    "# Chung Lu Hypergraph\n",
    "H = xgi.chung_lu_hypergraph(k1, k2)"
   ]
  },
  {
   "cell_type": "code",
   "execution_count": 35,
   "metadata": {},
   "outputs": [
    {
     "name": "stderr",
     "output_type": "stream",
     "text": [
      "C:\\Users\\cyril\\AppData\\Roaming\\Python\\Python312\\site-packages\\xgi\\generators\\random.py:376: UserWarning: The sum of the degree sequence does not match the entries in the omega matrix\n",
      "  warnings.warn(\n"
     ]
    }
   ],
   "source": [
    "# Dcsbm Hypergraph\n",
    "H = xgi.dcsbm_hypergraph(k1, k2, g1, g2, omega)"
   ]
  },
  {
   "cell_type": "code",
   "execution_count": 36,
   "metadata": {},
   "outputs": [
    {
     "name": "stderr",
     "output_type": "stream",
     "text": [
      "C:\\Users\\cyril\\AppData\\Roaming\\Python\\Python312\\site-packages\\xgi\\generators\\random.py:154: UserWarning: This method is much slower than fast_random_hypergraph\n",
      "  warn(\"This method is much slower than fast_random_hypergraph\")\n"
     ]
    }
   ],
   "source": [
    "# Random Hypergraph\n",
    "H = xgi.random_hypergraph(n, ps)"
   ]
  },
  {
   "cell_type": "code",
   "execution_count": 37,
   "metadata": {},
   "outputs": [],
   "source": [
    "# Watts Strogatz Hypergraph\n",
    "H = xgi.watts_strogatz_hypergraph(n, d, k, l, p, seed=None)"
   ]
  },
  {
   "cell_type": "code",
   "execution_count": 46,
   "metadata": {},
   "outputs": [
    {
     "name": "stdout",
     "output_type": "stream",
     "text": [
      "2.3765789473684213\n"
     ]
    }
   ],
   "source": [
    "# Generate a random hypergraph\n",
    "hypergraph = xgi.random_hypergraph(n, ps)\n",
    "\n",
    "# Convert the hypergraph to a dictionary format\n",
    "hypergraph_dict = {tuple(sorted(edge)): len(edge) for edge in hypergraph.edges.members()}\n",
    "\n",
    "# Print the hypergraph clustering\n",
    "average_high_order_clustering = quad_clustering(hypergraph_dict)\n",
    "print(average_high_order_clustering)"
   ]
  },
  {
   "cell_type": "code",
   "execution_count": 114,
   "metadata": {},
   "outputs": [
    {
     "name": "stdout",
     "output_type": "stream",
     "text": [
      "0.7445454545454545\n"
     ]
    }
   ],
   "source": [
    "# Generate a random hypergraph\n",
    "hypergraph = xgi.watts_strogatz_hypergraph(n, d, k, l, p, seed=None)\n",
    "\n",
    "# Convert the hypergraph to a dictionary format\n",
    "hypergraph_dict = {tuple(sorted(edge)): len(edge) for edge in hypergraph.edges.members()}\n",
    "\n",
    "# Print the hypergraph clustering\n",
    "average_high_order_clustering = quad_clustering(hypergraph_dict)\n",
    "print(average_high_order_clustering)"
   ]
  },
  {
   "cell_type": "code",
   "execution_count": 115,
   "metadata": {},
   "outputs": [
    {
     "name": "stdout",
     "output_type": "stream",
     "text": [
      "0.9341233766233767\n"
     ]
    }
   ],
   "source": [
    "# Randomize the Watts Strogatz Hypergraph\n",
    "hypergraph = xgi.shuffle_hyperedges(hypergraph, order=2, p=0.5)\n",
    "\n",
    "# Convert the hypergraph to a dictionary format\n",
    "hypergraph_dict = {tuple(sorted(edge)): len(edge) for edge in hypergraph.edges.members()}\n",
    "\n",
    "# Print the hypergraph clustering\n",
    "average_high_order_clustering = quad_clustering(hypergraph_dict)\n",
    "print(average_high_order_clustering)"
   ]
  },
  {
   "cell_type": "code",
   "execution_count": 125,
   "metadata": {},
   "outputs": [],
   "source": [
    "clustering_difference = []\n",
    "\n",
    "for i in range(1000):\n",
    "    # Generate a random hypergraph\n",
    "    hypergraph = xgi.watts_strogatz_hypergraph(n, d, k, l, p, seed=None)\n",
    "\n",
    "    # Convert the hypergraph to a dictionary format\n",
    "    hypergraph_dict = {tuple(sorted(edge)): len(edge) for edge in hypergraph.edges.members()}\n",
    "\n",
    "    # Compute the hypergraph clustering\n",
    "    average_high_order_clustering_WS = quad_clustering(hypergraph_dict)\n",
    "\n",
    "    # Randomize the Watts Strogatz Hypergraph\n",
    "    hypergraph = xgi.shuffle_hyperedges(hypergraph, order=2, p=0.5)\n",
    "\n",
    "    # Convert the hypergraph to a dictionary format\n",
    "    hypergraph_dict = {tuple(sorted(edge)): len(edge) for edge in hypergraph.edges.members()}\n",
    "\n",
    "    # Compute the hypergraph clustering\n",
    "    average_high_order_clustering_RA = quad_clustering(hypergraph_dict)\n",
    "\n",
    "    # Add the difference SW-RA to clustering list\n",
    "    clustering_difference.append(average_high_order_clustering_WS-average_high_order_clustering_RA)"
   ]
  },
  {
   "cell_type": "code",
   "execution_count": 126,
   "metadata": {},
   "outputs": [
    {
     "data": {
      "image/png": "[encoded data removed]",
      "text/plain": [
       "<Figure size 640x480 with 1 Axes>"
      ]
     },
     "metadata": {},
     "output_type": "display_data"
    }
   ],
   "source": [
    "import matplotlib.pyplot as plt\n",
    "\n",
    "# Plot histograms\n",
    "plt.hist(clustering_difference, bins=30)\n",
    "\n",
    "# Labels and title\n",
    "plt.xlabel('Clustering Coefficient Difference')\n",
    "plt.ylabel('Frequency')\n",
    "plt.title('Histogram of WS and RA Clustering Difference')\n",
    "\n",
    "# Show plot\n",
    "plt.show()\n"
   ]
  }
 ],
 "metadata": {
  "kernelspec": {
   "display_name": "base",
   "language": "python",
   "name": "python3"
  },
  "language_info": {
   "codemirror_mode": {
    "name": "ipython",
    "version": 3
   },
   "file_extension": ".py",
   "mimetype": "text/x-python",
   "name": "python",
   "nbconvert_exporter": "python",
   "pygments_lexer": "ipython3",
   "version": "3.12.4"
  }
 },
 "nbformat": 4,
 "nbformat_minor": 2
}
