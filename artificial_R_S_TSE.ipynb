{
 "cells": [
  {
   "cell_type": "code",
   "execution_count": null,
   "metadata": {},
   "outputs": [],
   "source": [
    "import numpy as np\n",
    "import pandas as pd\n",
    "import random\n",
    "from joblib import Parallel, delayed\n",
    "import itertools"
   ]
  },
  {
   "cell_type": "code",
   "execution_count": null,
   "metadata": {},
   "outputs": [],
   "source": [
    "# Optimized function to generate an empty simplicial complex\n",
    "def generate_empty_simplicial_complex(num_nodes):\n",
    "    \"\"\"Generate an empty simplicial complex.\"\"\"\n",
    "    nodes = np.arange(1, num_nodes + 1)\n",
    "    simplicial_complex = {}\n",
    "    for r in range(1, num_nodes + 1):\n",
    "        simplices = itertools.combinations(nodes, r)\n",
    "        for simplex in simplices:\n",
    "            simplicial_complex[simplex] = 0\n",
    "    return simplicial_complex\n",
    "\n",
    "# Optimized function to distribute values for R and S sums\n",
    "def distribute_value(R_sum, S_sum, nb_of_variables):\n",
    "    \"\"\"Distribute values efficiently using NumPy.\"\"\"\n",
    "    nb_of_variables_R = random.randint(1, nb_of_variables - 1)\n",
    "    nb_of_variables_S = nb_of_variables - nb_of_variables_R\n",
    "\n",
    "    # Generate R and S distributions using numpy for efficiency\n",
    "    points_R = np.sort(np.random.uniform(0, R_sum, nb_of_variables_R - 1))\n",
    "    points_R = np.concatenate(([0], points_R, [R_sum]))\n",
    "    distributed_values_R = np.diff(points_R)\n",
    "\n",
    "    points_S = np.sort(np.random.uniform(0, S_sum, nb_of_variables_S - 1))\n",
    "    points_S = np.concatenate(([0], points_S, [S_sum]))\n",
    "    distributed_values_S = np.diff(points_S)\n",
    "\n",
    "    # Combine, shuffle, and return the values\n",
    "    distributed_values = np.concatenate([distributed_values_R, -distributed_values_S])\n",
    "    np.random.shuffle(distributed_values)\n",
    "\n",
    "    return distributed_values\n",
    "\n",
    "# Optimized function to assign MI values\n",
    "def assign_MI_values(simplicial_complex, R_sum, S_sum):\n",
    "    \"\"\"Assign MI values to simplicial complex efficiently.\"\"\"\n",
    "    count = sum(1 for key in simplicial_complex if len(key) > 2)\n",
    "    distributed_values = distribute_value(R_sum, S_sum, count)\n",
    "    distributed_values_iter = iter(distributed_values)\n",
    "\n",
    "    for key in simplicial_complex:\n",
    "        key_length = len(key)\n",
    "        if key_length == 1:\n",
    "            simplicial_complex[key] = random.uniform(2, 3)\n",
    "        elif key_length == 2:\n",
    "            simplicial_complex[key] = random.uniform(0, 3)\n",
    "        elif key_length > 2:\n",
    "            simplicial_complex[key] = next(distributed_values_iter)\n",
    "    \n",
    "    return simplicial_complex\n",
    "\n",
    "# Optimized function to compute TSE complexity\n",
    "def compute_tse_complexity(TC_dict):\n",
    "    \"\"\"Compute TSE complexity efficiently.\"\"\"\n",
    "    N = max(len(subset) for subset in TC_dict)  # Maximum subset size\n",
    "    TSE = 0\n",
    "    for gamma in range(1, N):\n",
    "        TC_full = (gamma / N) * TC_dict[tuple(range(1, N + 1))]\n",
    "        E_TC_gamma = np.mean([TC_dict[subset] for subset in TC_dict if len(subset) == gamma])\n",
    "        TSE += TC_full - E_TC_gamma\n",
    "    return TSE"
   ]
  },
  {
   "cell_type": "code",
   "execution_count": null,
   "metadata": {},
   "outputs": [],
   "source": [
    "R_sum = 19\n",
    "S_sum = 1\n",
    "nb_of_variables = 10\n",
    "\n",
    "empty_simplicial_complex = generate_empty_simplicial_complex(nb_of_variables)\n",
    "Ninfomut_artificial = assign_MI_values(empty_simplicial_complex, R_sum, S_sum)\n",
    "compute_tse_complexity(Ninfomut_artificial)"
   ]
  }
 ],
 "metadata": {
  "language_info": {
   "name": "python"
  }
 },
 "nbformat": 4,
 "nbformat_minor": 2
}
