{
 "cells": [
  {
   "cell_type": "markdown",
   "metadata": {},
   "source": [
    "# Check calculations on TSE(R,S)\n",
    "\n",
    "When reading the exchange with Thomas Varley, he says that the complete correlation between TSE and S, R remains unclear because the individual atoms can be negative (and thus oppositely correlate). It could therefore be true that the TSE(R,S) structure behaves like I observe, all increasing with synchronization. To strengthen this conclusion, we should confirm further if the TSE calculation is correct and the redundancy and synergy calculations are correct. \n",
    "-\tWe can check the R and S values first by plotting histograms for the TC and MI values and see if our intuition indeed confirms the R and S values. \n",
    "-\tIf this works, we can further check the R and S values by performing a calculation similar to the causal decomposition, like below in (https://www.nature.com/articles/s41467-024-53373-4#Sec20): \n",
    "-\tWe can check the TSE calculation by performing a second calculation using the dit.multivariate library (https://dit.readthedocs.io/en/latest/measures/multivariate/tse_complexity.html)\n"
   ]
  },
  {
   "cell_type": "markdown",
   "metadata": {},
   "source": [
    "Import one Kuramoto example and divide into two parts. First 1000 points should be, acc. to previous analysis, less synergisic, redundant and TSE complex than the second half."
   ]
  },
  {
   "cell_type": "code",
   "execution_count": 1,
   "metadata": {},
   "outputs": [],
   "source": [
    "import infotopo_no_prints\n",
    "import os\n",
    "import xgi\n",
    "import glob\n",
    "import pandas as pd\n",
    "import numpy as np\n",
    "import matplotlib.pyplot as plt\n",
    "import matplotlib.colors as mcolors\n",
    "import matplotlib.animation as animation\n",
    "from sklearn.utils import Bunch\n",
    "from scipy.integrate import solve_ivp\n",
    "from dit import Distribution\n",
    "from dit.multivariate import tse_complexity\n",
    "import itertools"
   ]
  },
  {
   "cell_type": "code",
   "execution_count": 2,
   "metadata": {},
   "outputs": [],
   "source": [
    "# Simulate Kuramoto model for high order interactions with XGI\n",
    "def simulate_kuramoto_xgi(H, K2, K3, T=20, dt=0.01):\n",
    "    timesteps=int(T/dt)\n",
    "    H_int = xgi.convert_labels_to_integers(H, \"label\")\n",
    "    links = H_int.edges.filterby(\"size\", 2).members()\n",
    "    triangles = H_int.edges.filterby(\"size\", 3).members()\n",
    "    n = H_int.num_nodes\n",
    "\n",
    "    theta_time = np.zeros((timesteps, n))\n",
    "    times = np.arange(timesteps) * dt\n",
    "\n",
    "    omega = np.random.normal(0, 1, n)\n",
    "    theta = np.random.random(n) * 2 * np.pi\n",
    "\n",
    "    for t in range(timesteps):\n",
    "        theta_time[t] = theta\n",
    "        r1 = np.zeros(n, dtype=complex)\n",
    "        r2 = np.zeros(n, dtype=complex)\n",
    "\n",
    "        for i, j in links:\n",
    "            r1[i] += np.exp(1j * theta[j])\n",
    "            r1[j] += np.exp(1j * theta[i])\n",
    "\n",
    "        for i, j, k in triangles:\n",
    "            r2[i] += np.exp(2j * theta[j] - 1j * theta[k]) + np.exp(2j * theta[k] - 1j * theta[j])\n",
    "            r2[j] += np.exp(2j * theta[i] - 1j * theta[k]) + np.exp(2j * theta[k] - 1j * theta[i])\n",
    "            r2[k] += np.exp(2j * theta[i] - 1j * theta[j]) + np.exp(2j * theta[j] - 1j * theta[i])\n",
    "\n",
    "        d_theta = omega + K2 * np.multiply(r1, np.exp(-1j * theta)).imag + K3 * np.multiply(r2, np.exp(-1j * theta)).imag\n",
    "        theta_new = theta + d_theta * dt\n",
    "        theta = theta_new\n",
    "\n",
    "    frequencies_df = pd.DataFrame(theta_time, index=times)\n",
    "\n",
    "    return frequencies_df\n",
    "\n",
    "# Normalize the first two columns individually for a given dataframe (range 0-1)\n",
    "def normalize_columns(df):\n",
    "    # Normalize first column (index 0)\n",
    "    min_x, max_x = df.iloc[:, 0].min(), df.iloc[:, 0].max()\n",
    "    df.iloc[:, 0] = (df.iloc[:, 0] - min_x) / (max_x - min_x) if max_x != min_x else 0\n",
    "    \n",
    "    # Normalize second column (index 1)\n",
    "    min_y, max_y = df.iloc[:, 1].min(), df.iloc[:, 1].max()\n",
    "    df.iloc[:, 1] = (df.iloc[:, 1] - min_y) / (max_y - min_y) if max_y != min_y else 0\n",
    "    \n",
    "    return df\n",
    "\n",
    "# Optimized function to compute TSE complexity\n",
    "def compute_tse_complexity(TC_dict):\n",
    "    \"\"\"\n",
    "    Computes the TSE complexity given a dictionary of total correlations.\n",
    "    \n",
    "    Parameters:\n",
    "        TC_dict (dict): Dictionary of total correlations where keys are tuples (subsets).\n",
    "        \n",
    "    Returns:\n",
    "        float: The TSE complexity.\n",
    "    \"\"\"\n",
    "    N = max(len(subset) for subset in TC_dict)  # Maximum subset size\n",
    "    TSE = 0\n",
    "    for gamma in range(1, N):\n",
    "        TC_full = (gamma / N) * TC_dict[tuple(range(1, N + 1))]\n",
    "        E_TC_gamma = np.mean([TC_dict[subset] for subset in TC_dict if len(subset) == gamma])\n",
    "        TSE += TC_full - E_TC_gamma\n",
    "    return TSE\n",
    "\n",
    "# Conversion to compute TSE using dit.multivariate\n",
    "def convert_tc_dict_to_distribution(TC_dict):\n",
    "    \"\"\"\n",
    "    Constructs a dit.Distribution from a dictionary of total correlations.\n",
    "\n",
    "    Parameters:\n",
    "        TC_dict (dict): Dictionary where keys are tuples (subsets of variables) \n",
    "                        and values are the corresponding total correlations.\n",
    "\n",
    "    Returns:\n",
    "        Distribution: A probability distribution approximated from total correlations.\n",
    "    \"\"\"\n",
    "    # Determine the number of variables (N)\n",
    "    N = max(max(subset) for subset in TC_dict)  # Find the largest variable index\n",
    "\n",
    "    # Generate all possible binary states for N variables\n",
    "    states = list(itertools.product([0, 1], repeat=N))\n",
    "\n",
    "    # Assign artificial probabilities based on total correlations\n",
    "    probabilities = []\n",
    "    \n",
    "    for state in states:\n",
    "        total_tc = 0\n",
    "        for subset in TC_dict:\n",
    "            subset_indices = [i - 1 for i in subset]  # Convert 1-based to 0-based indices\n",
    "            if all(0 <= i < N and state[i] == 1 for i in subset_indices):  # Check valid indices\n",
    "                total_tc += TC_dict[subset]\n",
    "        probabilities.append(np.exp(-total_tc))  # Exponential scaling\n",
    "\n",
    "    probabilities = np.array(probabilities)\n",
    "    probabilities /= probabilities.sum()  # Normalize to make it a valid probability distribution\n",
    "\n",
    "    # Convert to dit Distribution\n",
    "    d = Distribution(states, probabilities)\n",
    "\n",
    "    return d\n",
    "\n",
    "# Compute TSE complexity using dit.multivariate\n",
    "def compute_tse_from_tc_dict_using_dit(TC_dict):\n",
    "    \"\"\"\n",
    "    Computes TSE complexity using dit's tse_complexity() function.\n",
    "\n",
    "    Parameters:\n",
    "        TC_dict (dict): Dictionary where keys are tuples (subsets of variables) \n",
    "                        and values are the corresponding total correlations.\n",
    "\n",
    "    Returns:\n",
    "        float: The computed TSE complexity.\n",
    "    \"\"\"\n",
    "    # Convert TC dictionary to a probability distribution\n",
    "    d = convert_tc_dict_to_distribution(TC_dict)\n",
    "    \n",
    "    # Compute TSE complexity using dit\n",
    "    return tse_complexity(d)\n",
    "\n",
    "# Convert pandas dataframe to bunch object\n",
    "def dataframe_to_bunch(dataframe, target=None, feature_names=None, target_names=None, descr=\"Custom dataset\"):\n",
    "    if feature_names is None:\n",
    "        feature_names = dataframe.columns.tolist()\n",
    "    \n",
    "    return Bunch(\n",
    "        data=dataframe.to_numpy(),\n",
    "        target=target if target is not None else np.zeros(dataframe.shape[0]),\n",
    "        feature_names=feature_names,\n",
    "        target_names=target_names if target_names is not None else [\"target\"],\n",
    "        DESCR=descr\n",
    "    )\n",
    "\n",
    "# Obtain topological information metrics using infotopo\n",
    "def obtain_infotopo_metrics(dataset, dimension_max=0, dimension_tot=0):\n",
    "\n",
    "    if dimension_max == 0:\n",
    "        dimension_max = 3 #dataset.shape[1]\n",
    "    if dimension_tot == 0:\n",
    "        dimension_tot = 9 #dataset.shape[1]\n",
    "    \n",
    "    sample_size = dataset.shape[0]\n",
    "    nb_of_values = 16\n",
    "    forward_computation_mode = True\n",
    "    work_on_transpose = False\n",
    "    supervised_mode = False\n",
    "    sampling_mode = 1\n",
    "    deformed_probability_mode = False\n",
    "\n",
    "    information_topo = infotopo_no_prints.infotopo(dimension_max = dimension_max,\n",
    "                                dimension_tot = dimension_tot,\n",
    "                                sample_size = sample_size,\n",
    "                                work_on_transpose = work_on_transpose,\n",
    "                                nb_of_values = nb_of_values,\n",
    "                                sampling_mode = sampling_mode,\n",
    "                                deformed_probability_mode = deformed_probability_mode,\n",
    "                                supervised_mode = supervised_mode,\n",
    "                                forward_computation_mode = forward_computation_mode)\n",
    "    \n",
    "    Nentropie = information_topo.simplicial_entropies_decomposition(dataset)\n",
    "    Ninfomut = information_topo.simplicial_infomut_decomposition(Nentropie)\n",
    "    Nfree_energy = information_topo.total_correlation_simplicial_lanscape(Nentropie)\n",
    "    \n",
    "    return  Nentropie, Ninfomut, Nfree_energy\n",
    "\n",
    "# Function to compute metrics for a time window sliding over a given timeseries\n",
    "def interactions_values_relative(df_input, dimension_max=0, dimension_tot=0):\n",
    "\n",
    "    bunch_data = dataframe_to_bunch(df_input)\n",
    "    Nentropie, Ninfomut, Nfree_energy = obtain_infotopo_metrics(bunch_data.data, dimension_max, dimension_tot)\n",
    "\n",
    "    S_values = [(TC - MI) / 2 for TC, MI in zip(Nfree_energy.values(), Ninfomut.values())]\n",
    "    R_values = [(TC + MI) / 2 for TC, MI in zip(Nfree_energy.values(), Ninfomut.values())]\n",
    "\n",
    "    S_mean = sum(S_values)/len(S_values)\n",
    "    R_mean = sum(R_values)/len(R_values)\n",
    "\n",
    "    TSE_value_simple = compute_tse_complexity(Nfree_energy)\n",
    "    TSE_value_dit = compute_tse_from_tc_dict_using_dit(Nfree_energy)\n",
    "    \n",
    "    return Ninfomut, Nfree_energy, S_mean, R_mean, TSE_value_simple, TSE_value_dit"
   ]
  },
  {
   "cell_type": "code",
   "execution_count": 3,
   "metadata": {},
   "outputs": [],
   "source": [
    "# Function to calculate information decomposition following causal inference\n",
    "def obtain_information_components(dictionary):\n",
    "    # Extract values based on key length\n",
    "    keylength_1 = {k: v for k, v in dictionary.items() if len(k) == 1}\n",
    "    keylength_2 = {k: v for k, v in dictionary.items() if len(k) == 2}\n",
    "    keylength_greater_1 = {k: v for k, v in dictionary.items() if len(k) > 1}\n",
    "\n",
    "    # Compute R\n",
    "    min_value_keylength_2 = min(keylength_2.values())\n",
    "    R_candidates = {k: v for k, v in keylength_1.items() if v <= min_value_keylength_2}\n",
    "    R = max(R_candidates.values())\n",
    "\n",
    "    # Compute U\n",
    "    max_value_keylength_1 = max(keylength_1.values())\n",
    "    if (max_value_keylength_1 - R) > 0:\n",
    "        U = max_value_keylength_1 - R\n",
    "    else:\n",
    "        U = 0\n",
    "\n",
    "    # Compute S\n",
    "    max_value_keylength_greater_1 = max(keylength_greater_1.values())\n",
    "    if (max_value_keylength_greater_1 - U) > 0:\n",
    "        S = max_value_keylength_greater_1 - U\n",
    "    else:\n",
    "        S = 0\n",
    "\n",
    "    return R, U, S"
   ]
  },
  {
   "cell_type": "code",
   "execution_count": 4,
   "metadata": {},
   "outputs": [],
   "source": [
    "# Parameters\n",
    "N = 8   # Number of oscillators\n",
    "K = 3.0  # Coupling strength\n",
    "T = 20   # Total time\n",
    "dt = 0.01  # Time step\n",
    "\n",
    "# Construct an all-to-all pairwise hypergraph (equivalent to a complete graph)\n",
    "H = xgi.Hypergraph()\n",
    "H.add_nodes_from(range(N))  # Add nodes\n",
    "for i in range(N):\n",
    "    for j in range(i + 1, N):\n",
    "        H.add_edge([i, j])  # Add all possible pairwise links\n",
    "\n",
    "# Set k2 = K / N for consistency with the standard Kuramoto model\n",
    "K2 = K / N\n",
    "K3 = 0  # No higher-order interactions\n",
    "\n",
    "# Run the simulation\n",
    "frequencies_df = simulate_kuramoto_xgi(H, K2, K3, T, dt)"
   ]
  },
  {
   "cell_type": "code",
   "execution_count": 16,
   "metadata": {},
   "outputs": [
    {
     "data": {
      "text/plain": [
       "0.6666666666666669"
      ]
     },
     "execution_count": 16,
     "metadata": {},
     "output_type": "execute_result"
    }
   ],
   "source": [
    "from dit.multivariate import tse_complexity\n",
    "\n",
    "d = dit.uniform(['000', '001', '110', '111'])\n",
    "tse_complexity(d)"
   ]
  },
  {
   "cell_type": "code",
   "execution_count": 43,
   "metadata": {},
   "outputs": [
    {
     "data": {
      "text/plain": [
       "0.5"
      ]
     },
     "execution_count": 43,
     "metadata": {},
     "output_type": "execute_result"
    }
   ],
   "source": [
    "from dit.multivariate import tse_complexity\n",
    "\n",
    "d = dit.uniform(['000', '001', '110', '111'])\n",
    "tse_complexity(d)\n",
    "\n",
    "tse_complexity(d, rvs=[{0, 1, 1}, {0, 1, 0}], rv_mode='indices')"
   ]
  },
  {
   "cell_type": "code",
   "execution_count": 44,
   "metadata": {},
   "outputs": [
    {
     "data": {
      "text/plain": [
       "0.75"
      ]
     },
     "execution_count": 44,
     "metadata": {},
     "output_type": "execute_result"
    }
   ],
   "source": [
    "from dit import Distribution\n",
    "from dit.multivariate import tse_complexity\n",
    "\n",
    "pmf = [[0.5, 0.25], [0.25, 0]]\n",
    "d = Distribution.from_ndarray(pmf)\n",
    "\n",
    "tse_complexity(d, rvs=[{0, 1, 1}, {0, 1, 0}], rv_mode='indices')"
   ]
  },
  {
   "cell_type": "code",
   "execution_count": 24,
   "metadata": {},
   "outputs": [
    {
     "ename": "TypeError",
     "evalue": "__str__ returned non-string (type InvalidNormalization)",
     "output_type": "error",
     "traceback": [
      "\u001b[1;31m---------------------------------------------------------------------------\u001b[0m",
      "\u001b[1;31mInvalidNormalization\u001b[0m                      Traceback (most recent call last)",
      "    \u001b[1;31m[... skipping hidden 1 frame]\u001b[0m\n",
      "Cell \u001b[1;32mIn[24], line 15\u001b[0m\n\u001b[0;32m     14\u001b[0m \u001b[38;5;66;03m# Convert data to a distribution object by treating each row as a sample of multivariate values\u001b[39;00m\n\u001b[1;32m---> 15\u001b[0m dist \u001b[38;5;241m=\u001b[39m Distribution\u001b[38;5;241m.\u001b[39mfrom_ndarray(data)\n\u001b[0;32m     17\u001b[0m \u001b[38;5;66;03m# Compute the Temporal Structure Entropy (TSE) complexity using the distribution\u001b[39;00m\n",
      "File \u001b[1;32m~\\AppData\\Roaming\\Python\\Python312\\site-packages\\dit\\npdist.py:678\u001b[0m, in \u001b[0;36mDistribution.from_ndarray\u001b[1;34m(cls, ndarray, base, prng)\u001b[0m\n\u001b[0;32m    654\u001b[0m \u001b[38;5;250m\u001b[39m\u001b[38;5;124;03m\"\"\"\u001b[39;00m\n\u001b[0;32m    655\u001b[0m \u001b[38;5;124;03mConstruct a Distribution from a pmf stored as an ndarray.\u001b[39;00m\n\u001b[0;32m    656\u001b[0m \n\u001b[1;32m   (...)\u001b[0m\n\u001b[0;32m    676\u001b[0m \n\u001b[0;32m    677\u001b[0m \u001b[38;5;124;03m\"\"\"\u001b[39;00m\n\u001b[1;32m--> 678\u001b[0m \u001b[38;5;28;01mreturn\u001b[39;00m \u001b[38;5;28mcls\u001b[39m(\u001b[38;5;241m*\u001b[39m\u001b[38;5;28mzip\u001b[39m(\u001b[38;5;241m*\u001b[39mnp\u001b[38;5;241m.\u001b[39mndenumerate(ndarray)), base\u001b[38;5;241m=\u001b[39mbase, prng\u001b[38;5;241m=\u001b[39mprng)\n",
      "File \u001b[1;32m~\\AppData\\Roaming\\Python\\Python312\\site-packages\\dit\\npdist.py:505\u001b[0m, in \u001b[0;36mDistribution.__init__\u001b[1;34m(self, outcomes, pmf, sample_space, base, prng, sort, sparse, trim, validate)\u001b[0m\n\u001b[0;32m    504\u001b[0m \u001b[38;5;28;01mif\u001b[39;00m validate:\n\u001b[1;32m--> 505\u001b[0m     \u001b[38;5;28mself\u001b[39m\u001b[38;5;241m.\u001b[39mvalidate()\n",
      "File \u001b[1;32m~\\AppData\\Roaming\\Python\\Python312\\site-packages\\dit\\npscalardist.py:1851\u001b[0m, in \u001b[0;36mScalarDistribution.validate\u001b[1;34m(self, **kwargs)\u001b[0m\n\u001b[0;32m   1850\u001b[0m     \u001b[38;5;28;01mif\u001b[39;00m test:\n\u001b[1;32m-> 1851\u001b[0m         \u001b[38;5;28mgetattr\u001b[39m(\u001b[38;5;28mself\u001b[39m, method)()\n\u001b[0;32m   1853\u001b[0m \u001b[38;5;28;01mreturn\u001b[39;00m \u001b[38;5;28;01mTrue\u001b[39;00m\n",
      "File \u001b[1;32m~\\AppData\\Roaming\\Python\\Python312\\site-packages\\dit\\distribution.py:386\u001b[0m, in \u001b[0;36mBaseDistribution._validate_normalization\u001b[1;34m(self)\u001b[0m\n\u001b[0;32m    385\u001b[0m \u001b[38;5;28;01mfrom\u001b[39;00m \u001b[38;5;21;01m.\u001b[39;00m\u001b[38;5;21;01mvalidate\u001b[39;00m \u001b[38;5;28;01mimport\u001b[39;00m validate_normalization\n\u001b[1;32m--> 386\u001b[0m v \u001b[38;5;241m=\u001b[39m validate_normalization(\u001b[38;5;28mself\u001b[39m\u001b[38;5;241m.\u001b[39mpmf, \u001b[38;5;28mself\u001b[39m\u001b[38;5;241m.\u001b[39mops)\n\u001b[0;32m    387\u001b[0m \u001b[38;5;28;01mreturn\u001b[39;00m v\n",
      "File \u001b[1;32m~\\AppData\\Roaming\\Python\\Python312\\site-packages\\dit\\validate.py:84\u001b[0m, in \u001b[0;36mvalidate_normalization\u001b[1;34m(pmf, ops)\u001b[0m\n\u001b[0;32m     83\u001b[0m \u001b[38;5;28;01mif\u001b[39;00m \u001b[38;5;129;01mnot\u001b[39;00m np\u001b[38;5;241m.\u001b[39misclose(total, one):\n\u001b[1;32m---> 84\u001b[0m     \u001b[38;5;28;01mraise\u001b[39;00m InvalidNormalization(total)\n\u001b[0;32m     86\u001b[0m \u001b[38;5;28;01mreturn\u001b[39;00m \u001b[38;5;28;01mTrue\u001b[39;00m\n",
      "\u001b[1;31m<class 'str'>\u001b[0m: (<class 'TypeError'>, TypeError('__str__ returned non-string (type InvalidNormalization)'))",
      "\nDuring handling of the above exception, another exception occurred:\n",
      "\u001b[1;31mTypeError\u001b[0m                                 Traceback (most recent call last)",
      "    \u001b[1;31m[... skipping hidden 1 frame]\u001b[0m\n",
      "File \u001b[1;32mc:\\ProgramData\\anaconda3\\Lib\\site-packages\\IPython\\core\\interactiveshell.py:2179\u001b[0m, in \u001b[0;36mInteractiveShell.showtraceback\u001b[1;34m(self, exc_tuple, filename, tb_offset, exception_only, running_compiled_code)\u001b[0m\n\u001b[0;32m   2176\u001b[0m         traceback\u001b[38;5;241m.\u001b[39mprint_exc()\n\u001b[0;32m   2177\u001b[0m         \u001b[38;5;28;01mreturn\u001b[39;00m \u001b[38;5;28;01mNone\u001b[39;00m\n\u001b[1;32m-> 2179\u001b[0m     \u001b[38;5;28mself\u001b[39m\u001b[38;5;241m.\u001b[39m_showtraceback(etype, value, stb)\n\u001b[0;32m   2180\u001b[0m \u001b[38;5;28;01mif\u001b[39;00m \u001b[38;5;28mself\u001b[39m\u001b[38;5;241m.\u001b[39mcall_pdb:\n\u001b[0;32m   2181\u001b[0m     \u001b[38;5;66;03m# drop into debugger\u001b[39;00m\n\u001b[0;32m   2182\u001b[0m     \u001b[38;5;28mself\u001b[39m\u001b[38;5;241m.\u001b[39mdebugger(force\u001b[38;5;241m=\u001b[39m\u001b[38;5;28;01mTrue\u001b[39;00m)\n",
      "File \u001b[1;32mc:\\ProgramData\\anaconda3\\Lib\\site-packages\\ipykernel\\zmqshell.py:559\u001b[0m, in \u001b[0;36mZMQInteractiveShell._showtraceback\u001b[1;34m(self, etype, evalue, stb)\u001b[0m\n\u001b[0;32m    553\u001b[0m sys\u001b[38;5;241m.\u001b[39mstdout\u001b[38;5;241m.\u001b[39mflush()\n\u001b[0;32m    554\u001b[0m sys\u001b[38;5;241m.\u001b[39mstderr\u001b[38;5;241m.\u001b[39mflush()\n\u001b[0;32m    556\u001b[0m exc_content \u001b[38;5;241m=\u001b[39m {\n\u001b[0;32m    557\u001b[0m     \u001b[38;5;124m\"\u001b[39m\u001b[38;5;124mtraceback\u001b[39m\u001b[38;5;124m\"\u001b[39m: stb,\n\u001b[0;32m    558\u001b[0m     \u001b[38;5;124m\"\u001b[39m\u001b[38;5;124mename\u001b[39m\u001b[38;5;124m\"\u001b[39m: \u001b[38;5;28mstr\u001b[39m(etype\u001b[38;5;241m.\u001b[39m\u001b[38;5;18m__name__\u001b[39m),\n\u001b[1;32m--> 559\u001b[0m     \u001b[38;5;124m\"\u001b[39m\u001b[38;5;124mevalue\u001b[39m\u001b[38;5;124m\"\u001b[39m: \u001b[38;5;28mstr\u001b[39m(evalue),\n\u001b[0;32m    560\u001b[0m }\n\u001b[0;32m    562\u001b[0m dh \u001b[38;5;241m=\u001b[39m \u001b[38;5;28mself\u001b[39m\u001b[38;5;241m.\u001b[39mdisplayhook\n\u001b[0;32m    563\u001b[0m \u001b[38;5;66;03m# Send exception info over pub socket for other clients than the caller\u001b[39;00m\n\u001b[0;32m    564\u001b[0m \u001b[38;5;66;03m# to pick up\u001b[39;00m\n",
      "\u001b[1;31mTypeError\u001b[0m: __str__ returned non-string (type InvalidNormalization)"
     ]
    }
   ],
   "source": [
    "import numpy as np\n",
    "from dit import Distribution\n",
    "from dit.multivariate import tse_complexity\n",
    "\n",
    "# Your multivariate time series data\n",
    "data = [[\n",
    "    [4.561211, 5.205093, 1.170862, 1.015272, 0.800386, 3.881195, 3.849543, 2.510171],\n",
    "    [4.561082, 5.223492, 1.161065, 0.999184, 0.823734, 3.865317, 3.859720, 2.525014],\n",
    "    [4.560984, 5.241933, 1.151234, 0.983059, 0.847099, 3.849470, 3.869894, 2.539811],\n",
    "    [4.560917, 5.260418, 1.141370, 0.966897, 0.870477, 3.833653, 3.880065, 2.554562],\n",
    "    [4.560880, 5.278945, 1.131473, 0.950700, 0.893867, 3.817866, 3.890235, 2.569270]\n",
    "]]\n",
    "\n",
    "# Convert data to a distribution object by treating each row as a sample of multivariate values\n",
    "dist = Distribution.from_ndarray(data)\n",
    "\n",
    "# Compute the Temporal Structure Entropy (TSE) complexity using the distribution\n",
    "tse_value = tse_complexity(dist)\n",
    "\n",
    "# Print the TSE complexity value\n",
    "print(f\"TSE Complexity: {tse_value}\")\n"
   ]
  },
  {
   "cell_type": "code",
   "execution_count": 5,
   "metadata": {},
   "outputs": [
    {
     "name": "stderr",
     "output_type": "stream",
     "text": [
      "C:\\Users\\cyril\\AppData\\Local\\Temp\\ipykernel_3280\\1412861841.py:1: FutureWarning: The behavior of obj[i:j] with a float-dtype index is deprecated. In a future version, this will be treated as positional instead of label-based. For label-based slicing, use obj.loc[i:j] instead\n",
      "  df_input = frequencies_df[:10]\n"
     ]
    }
   ],
   "source": [
    "df_input = frequencies_df[:10]\n",
    "dimension_max = 4\n",
    "dimension_tot = 8\n",
    "\n",
    "Ninfomut, Nfree_energy, S_mean, R_mean, TSE_value_simple, TSE_value_dit = interactions_values_relative(df_input, dimension_max, dimension_tot)"
   ]
  },
  {
   "cell_type": "code",
   "execution_count": 6,
   "metadata": {},
   "outputs": [
    {
     "data": {
      "image/png": "[encoded data removed]",
      "text/plain": [
       "<Figure size 1000x600 with 2 Axes>"
      ]
     },
     "metadata": {},
     "output_type": "display_data"
    }
   ],
   "source": [
    "# Function to process dictionary for plotting\n",
    "def process_data(data):\n",
    "    sorted_items = sorted(data.items(), key=lambda x: (len(x[0]), x[1]))\n",
    "    keys_sorted = [item[0] for item in sorted_items]\n",
    "    values_sorted = [item[1] for item in sorted_items]\n",
    "    key_labels = [str(k) for k in keys_sorted]\n",
    "    return key_labels, values_sorted\n",
    "\n",
    "# Process data\n",
    "labels_infomut, values_infomut = process_data(Ninfomut)\n",
    "labels_free_energy, values_free_energy = process_data(Nfree_energy)\n",
    "\n",
    "# Obtain x-ticks\n",
    "seen_lengths = set()\n",
    "indeces = []\n",
    "keylengths = []\n",
    "\n",
    "for index, (key, value) in enumerate(Ninfomut.items()):\n",
    "    key_length = len(key)\n",
    "    if key_length not in seen_lengths:\n",
    "        indeces.append(index)\n",
    "        keylengths.append(f'{key_length}')\n",
    "        seen_lengths.add(key_length)\n",
    "\n",
    "# Create figure and subplots\n",
    "fig, axs = plt.subplots(2, 1, figsize=(10, 6), sharex=False)\n",
    "\n",
    "# Plot first bar plot\n",
    "axs[0].bar(labels_infomut, values_infomut, color='steelblue')\n",
    "axs[0].set_ylabel(\"Values\")\n",
    "axs[0].set_title(\"Bar Plot of Ninfomut Dictionary\")\n",
    "axs[0].tick_params(axis='x', bottom=True)  # Hide tick marks\n",
    "axs[0].set_xticks(indeces)  # Remove x-ticks\n",
    "axs[0].set_xticklabels(keylengths)  # Remove x-axis labels\n",
    "\n",
    "# Plot second bar plot\n",
    "axs[1].bar(labels_free_energy, values_free_energy, color='darkorange')\n",
    "axs[1].set_ylabel(\"Values\")\n",
    "axs[1].set_xlabel(\"Interaction order\")\n",
    "axs[1].set_title(\"Bar Plot of Nfree_energy Dictionary\")\n",
    "axs[1].tick_params(axis='x', bottom=True)  # Hide tick marks\n",
    "axs[1].set_xticks(indeces)  # Remove x-ticks\n",
    "axs[1].set_xticklabels(keylengths)  # Remove x-axis labels\n",
    "\n",
    "plt.tight_layout()\n",
    "plt.show()"
   ]
  },
  {
   "cell_type": "code",
   "execution_count": 155,
   "metadata": {},
   "outputs": [
    {
     "name": "stdout",
     "output_type": "stream",
     "text": [
      "Redundant information: 0.0\n",
      "Unique information: 0\n",
      "Synergistic information: 10.199508209781879\n",
      "S mean is: 2.1374322533951933\n",
      "R mean is: 4.668796167255022\n"
     ]
    }
   ],
   "source": [
    "Redundant_information, Unique_information, Synergistic_information = obtain_information_components(Nfree_energy)\n",
    "\n",
    "# Print results\n",
    "print(f\"Redundant information: {Redundant_information}\")\n",
    "print(f\"Unique information: {Unique_information}\")\n",
    "print(f\"Synergistic information: {Synergistic_information}\")\n",
    "\n",
    "print(f'S mean is: {S_mean}')\n",
    "print(f'R mean is: {R_mean}')"
   ]
  }
 ],
 "metadata": {
  "kernelspec": {
   "display_name": "base",
   "language": "python",
   "name": "python3"
  },
  "language_info": {
   "codemirror_mode": {
    "name": "ipython",
    "version": 3
   },
   "file_extension": ".py",
   "mimetype": "text/x-python",
   "name": "python",
   "nbconvert_exporter": "python",
   "pygments_lexer": "ipython3",
   "version": "3.12.4"
  }
 },
 "nbformat": 4,
 "nbformat_minor": 2
}
